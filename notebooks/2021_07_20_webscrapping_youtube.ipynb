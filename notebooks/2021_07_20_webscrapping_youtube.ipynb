{
  "nbformat": 4,
  "nbformat_minor": 0,
  "metadata": {
    "colab": {
      "name": "2021-07-20-webscrapping-youtube.ipynb",
      "provenance": [],
      "collapsed_sections": [],
      "authorship_tag": "ABX9TyOAwrBXaZ3CkPHsceZZL9VT",
      "include_colab_link": true
    },
    "kernelspec": {
      "name": "python3",
      "display_name": "Python 3"
    },
    "language_info": {
      "name": "python"
    }
  },
  "cells": [
    {
      "cell_type": "markdown",
      "metadata": {
        "id": "view-in-github",
        "colab_type": "text"
      },
      "source": [
        "<a href=\"https://colab.research.google.com/github/drusho/webscrape_youtube/blob/main/notebooks/2021_07_20_webscrapping_youtube.ipynb\" target=\"_parent\"><img src=\"https://colab.research.google.com/assets/colab-badge.svg\" alt=\"Open In Colab\"/></a>"
      ]
    },
    {
      "cell_type": "markdown",
      "metadata": {
        "id": "sriMBGHM_4X4"
      },
      "source": [
        "# Web Scrapping Youtube Tech Channels\n",
        "> Using Senenium to Analyze Youtube Data\n",
        "\n",
        "- toc: false\n",
        "- badges: false\n",
        "- comments: true\n",
        "- categories: [Selenium, Web Scrapping, Pandas]\n",
        "- image: \"images/thumbnails/header_youtube_web.png\""
      ]
    },
    {
      "cell_type": "markdown",
      "metadata": {
        "id": "plq838Q7cdQs"
      },
      "source": [
        "<br>\n",
        "\n",
        "__Notebook Created by David Rusho__\n",
        "\n",
        "[Github Blog](https://drusho.github.io) | [Github](https://github.com/drusho/webscrape_youtube) | [Tableau](https://public.tableau.com/app/profile/drusho/) | [Linkedin](https://linkedin.com/in/davidrusho)\n"
      ]
    },
    {
      "cell_type": "markdown",
      "metadata": {
        "id": "QQcSYIoEcrGo"
      },
      "source": [
        "## About the Data\n",
        "\n",
        "Web scraping was performed on the _Top 10 Tech Channels_ on Youtube using _[Selenium](https://selenium-python.readthedocs.io/)_ (an automated browser (driver) controlled using python, which is often used in web scraping and web testing).  Web scrapped Youtube channels were determined using a __[Top 10 Tech Youtubers](https://blog.bit.ai/top-tech-youtubers/)__ list from blog.bit.ai.  Scraping included:\n",
        "\n",
        "* General data for each channel.\n",
        " * ex. join date, name, no. of subscribers\n",
        "\n",
        "* Data from most popular videos per channel\n",
        " * ex. video titles, views\n",
        "\n",
        "* Data specific to each video.\n",
        " * ex. post date, no. of upvotes, no. comments\n",
        "\n",
        "<br>\n",
        "\n",
        "The average number of videos per channel was around 200.  In total, the data from 2000 videos was scrapped."
      ]
    },
    {
      "cell_type": "markdown",
      "metadata": {
        "id": "Zm0ocehrIZSE"
      },
      "source": [
        "## Introduction\n",
        "\n",
        "_*Note: View this notebook in [Google Colab](https://colab.research.google.com/drive/1UxpBBsypGqUj7816zyvGNhJcPfaxBP_c?usp=sharing) to view more detailed code on data cleaning procedures or visit my [github](https://github.com/drusho/webscrape_youtube) to view the code related to webscrapping and data collection._"
      ]
    },
    {
      "cell_type": "markdown",
      "metadata": {
        "id": "Zgl968F6HI4Y"
      },
      "source": [
        "#hide\n",
        "## Data Cleaning"
      ]
    },
    {
      "cell_type": "code",
      "metadata": {
        "id": "gNPkb9yLHMa8"
      },
      "source": [
        "#hide\n",
        "import pandas as pd"
      ],
      "execution_count": null,
      "outputs": []
    },
    {
      "cell_type": "markdown",
      "metadata": {
        "id": "_m_d2muYGFgc"
      },
      "source": [
        "#hide\n",
        "### Raw Dataframe Sample\n",
        "Data from Youtube Channels' main pages (Video and About)"
      ]
    },
    {
      "cell_type": "code",
      "metadata": {
        "colab": {
          "base_uri": "https://localhost:8080/",
          "height": 182
        },
        "id": "IvEQLRIxHSsg",
        "outputId": "afb72e4b-af3c-4bde-ed74-bb1d6c7b7204"
      },
      "source": [
        "#collapse\n",
        "yt = pd.read_csv('yt_channel_scrap.csv',parse_dates=['channel_join_date'])\n",
        "yt.head(2)"
      ],
      "execution_count": null,
      "outputs": [
        {
          "output_type": "execute_result",
          "data": {
            "text/html": [
              "<div>\n",
              "<style scoped>\n",
              "    .dataframe tbody tr th:only-of-type {\n",
              "        vertical-align: middle;\n",
              "    }\n",
              "\n",
              "    .dataframe tbody tr th {\n",
              "        vertical-align: top;\n",
              "    }\n",
              "\n",
              "    .dataframe thead th {\n",
              "        text-align: right;\n",
              "    }\n",
              "</style>\n",
              "<table border=\"1\" class=\"dataframe\">\n",
              "  <thead>\n",
              "    <tr style=\"text-align: right;\">\n",
              "      <th></th>\n",
              "      <th>Unnamed: 0</th>\n",
              "      <th>channel_name</th>\n",
              "      <th>subscribers</th>\n",
              "      <th>title</th>\n",
              "      <th>views</th>\n",
              "      <th>post_date</th>\n",
              "      <th>url</th>\n",
              "      <th>channel_join_date</th>\n",
              "      <th>channel_views</th>\n",
              "      <th>channel_description</th>\n",
              "    </tr>\n",
              "  </thead>\n",
              "  <tbody>\n",
              "    <tr>\n",
              "      <th>0</th>\n",
              "      <td>0</td>\n",
              "      <td>iJustine</td>\n",
              "      <td>6.89M subscribers</td>\n",
              "      <td>Black Eyed Peas - I gotta Feeling (Parody)</td>\n",
              "      <td>18M views</td>\n",
              "      <td>11 years ago</td>\n",
              "      <td>https://www.youtube.com/watch?v=iPgaTmsYTT8</td>\n",
              "      <td>NaT</td>\n",
              "      <td>NaN</td>\n",
              "      <td>NaN</td>\n",
              "    </tr>\n",
              "    <tr>\n",
              "      <th>1</th>\n",
              "      <td>1</td>\n",
              "      <td>iJustine</td>\n",
              "      <td>6.89M subscribers</td>\n",
              "      <td>Cake Decorating Challenge with Ro | Nerdy Numm...</td>\n",
              "      <td>12M views</td>\n",
              "      <td>5 years ago</td>\n",
              "      <td>https://www.youtube.com/watch?v=y7xZ-kJDgvM</td>\n",
              "      <td>NaT</td>\n",
              "      <td>NaN</td>\n",
              "      <td>NaN</td>\n",
              "    </tr>\n",
              "  </tbody>\n",
              "</table>\n",
              "</div>"
            ],
            "text/plain": [
              "   Unnamed: 0 channel_name  ... channel_views channel_description\n",
              "0           0     iJustine  ...           NaN                 NaN\n",
              "1           1     iJustine  ...           NaN                 NaN\n",
              "\n",
              "[2 rows x 10 columns]"
            ]
          },
          "metadata": {
            "tags": []
          },
          "execution_count": 3
        }
      ]
    },
    {
      "cell_type": "code",
      "metadata": {
        "colab": {
          "base_uri": "https://localhost:8080/",
          "height": 112
        },
        "id": "ICOpHLxFHrO0",
        "outputId": "008d3165-b58a-41d1-fee1-d9cda24af079"
      },
      "source": [
        "#hide\n",
        "# create df of Channel details\n",
        "channel_details = yt[yt.channel_join_date.notna()]\n",
        "channel_details = channel_details.drop(columns=['Unnamed: 0','subscribers','title','views','post_date']).reset_index(drop=True)\n",
        "channel_details.head(2)"
      ],
      "execution_count": null,
      "outputs": [
        {
          "output_type": "execute_result",
          "data": {
            "text/html": [
              "<div>\n",
              "<style scoped>\n",
              "    .dataframe tbody tr th:only-of-type {\n",
              "        vertical-align: middle;\n",
              "    }\n",
              "\n",
              "    .dataframe tbody tr th {\n",
              "        vertical-align: top;\n",
              "    }\n",
              "\n",
              "    .dataframe thead th {\n",
              "        text-align: right;\n",
              "    }\n",
              "</style>\n",
              "<table border=\"1\" class=\"dataframe\">\n",
              "  <thead>\n",
              "    <tr style=\"text-align: right;\">\n",
              "      <th></th>\n",
              "      <th>channel_name</th>\n",
              "      <th>url</th>\n",
              "      <th>channel_join_date</th>\n",
              "      <th>channel_views</th>\n",
              "      <th>channel_description</th>\n",
              "    </tr>\n",
              "  </thead>\n",
              "  <tbody>\n",
              "    <tr>\n",
              "      <th>0</th>\n",
              "      <td>iJustine</td>\n",
              "      <td>NaN</td>\n",
              "      <td>2006-05-07</td>\n",
              "      <td>1,288,987,476 views</td>\n",
              "      <td>Tech, video games, failed cooking attempts, vl...</td>\n",
              "    </tr>\n",
              "    <tr>\n",
              "      <th>1</th>\n",
              "      <td>Android Authority</td>\n",
              "      <td>NaN</td>\n",
              "      <td>2011-04-03</td>\n",
              "      <td>767,860,795 views</td>\n",
              "      <td>Your source for the best phones, streaming, ap...</td>\n",
              "    </tr>\n",
              "  </tbody>\n",
              "</table>\n",
              "</div>"
            ],
            "text/plain": [
              "        channel_name  ...                                channel_description\n",
              "0           iJustine  ...  Tech, video games, failed cooking attempts, vl...\n",
              "1  Android Authority  ...  Your source for the best phones, streaming, ap...\n",
              "\n",
              "[2 rows x 5 columns]"
            ]
          },
          "metadata": {
            "tags": []
          },
          "execution_count": 4
        }
      ]
    },
    {
      "cell_type": "code",
      "metadata": {
        "colab": {
          "base_uri": "https://localhost:8080/",
          "height": 112
        },
        "id": "ZXktrQpaIqqM",
        "outputId": "5dd7ecba-7ca4-4430-b4ff-244697d2b609"
      },
      "source": [
        "#hide\n",
        "#create df Video details\n",
        "video_details = yt[yt.channel_join_date.isna()]\n",
        "video_details = video_details.drop(columns=['Unnamed: 0','channel_join_date','channel_views','channel_description','post_date']).reset_index(drop=True)\n",
        "video_details.head(2)"
      ],
      "execution_count": null,
      "outputs": [
        {
          "output_type": "execute_result",
          "data": {
            "text/html": [
              "<div>\n",
              "<style scoped>\n",
              "    .dataframe tbody tr th:only-of-type {\n",
              "        vertical-align: middle;\n",
              "    }\n",
              "\n",
              "    .dataframe tbody tr th {\n",
              "        vertical-align: top;\n",
              "    }\n",
              "\n",
              "    .dataframe thead th {\n",
              "        text-align: right;\n",
              "    }\n",
              "</style>\n",
              "<table border=\"1\" class=\"dataframe\">\n",
              "  <thead>\n",
              "    <tr style=\"text-align: right;\">\n",
              "      <th></th>\n",
              "      <th>channel_name</th>\n",
              "      <th>subscribers</th>\n",
              "      <th>title</th>\n",
              "      <th>views</th>\n",
              "      <th>url</th>\n",
              "    </tr>\n",
              "  </thead>\n",
              "  <tbody>\n",
              "    <tr>\n",
              "      <th>0</th>\n",
              "      <td>iJustine</td>\n",
              "      <td>6.89M subscribers</td>\n",
              "      <td>Black Eyed Peas - I gotta Feeling (Parody)</td>\n",
              "      <td>18M views</td>\n",
              "      <td>https://www.youtube.com/watch?v=iPgaTmsYTT8</td>\n",
              "    </tr>\n",
              "    <tr>\n",
              "      <th>1</th>\n",
              "      <td>iJustine</td>\n",
              "      <td>6.89M subscribers</td>\n",
              "      <td>Cake Decorating Challenge with Ro | Nerdy Numm...</td>\n",
              "      <td>12M views</td>\n",
              "      <td>https://www.youtube.com/watch?v=y7xZ-kJDgvM</td>\n",
              "    </tr>\n",
              "  </tbody>\n",
              "</table>\n",
              "</div>"
            ],
            "text/plain": [
              "  channel_name  ...                                          url\n",
              "0     iJustine  ...  https://www.youtube.com/watch?v=iPgaTmsYTT8\n",
              "1     iJustine  ...  https://www.youtube.com/watch?v=y7xZ-kJDgvM\n",
              "\n",
              "[2 rows x 5 columns]"
            ]
          },
          "metadata": {
            "tags": []
          },
          "execution_count": 5
        }
      ]
    },
    {
      "cell_type": "code",
      "metadata": {
        "colab": {
          "base_uri": "https://localhost:8080/",
          "height": 147
        },
        "id": "sxhYebCPKkBY",
        "outputId": "12a147b0-e035-4238-eee6-6b36ad4f7078"
      },
      "source": [
        "#hide\n",
        "# merge dfs \n",
        "merged = channel_details.merge(video_details, on='channel_name')\n",
        "merged.head(2)"
      ],
      "execution_count": null,
      "outputs": [
        {
          "output_type": "execute_result",
          "data": {
            "text/html": [
              "<div>\n",
              "<style scoped>\n",
              "    .dataframe tbody tr th:only-of-type {\n",
              "        vertical-align: middle;\n",
              "    }\n",
              "\n",
              "    .dataframe tbody tr th {\n",
              "        vertical-align: top;\n",
              "    }\n",
              "\n",
              "    .dataframe thead th {\n",
              "        text-align: right;\n",
              "    }\n",
              "</style>\n",
              "<table border=\"1\" class=\"dataframe\">\n",
              "  <thead>\n",
              "    <tr style=\"text-align: right;\">\n",
              "      <th></th>\n",
              "      <th>channel_name</th>\n",
              "      <th>url_x</th>\n",
              "      <th>channel_join_date</th>\n",
              "      <th>channel_views</th>\n",
              "      <th>channel_description</th>\n",
              "      <th>subscribers</th>\n",
              "      <th>title</th>\n",
              "      <th>views</th>\n",
              "      <th>url_y</th>\n",
              "    </tr>\n",
              "  </thead>\n",
              "  <tbody>\n",
              "    <tr>\n",
              "      <th>0</th>\n",
              "      <td>iJustine</td>\n",
              "      <td>NaN</td>\n",
              "      <td>2006-05-07</td>\n",
              "      <td>1,288,987,476 views</td>\n",
              "      <td>Tech, video games, failed cooking attempts, vl...</td>\n",
              "      <td>6.89M subscribers</td>\n",
              "      <td>Black Eyed Peas - I gotta Feeling (Parody)</td>\n",
              "      <td>18M views</td>\n",
              "      <td>https://www.youtube.com/watch?v=iPgaTmsYTT8</td>\n",
              "    </tr>\n",
              "    <tr>\n",
              "      <th>1</th>\n",
              "      <td>iJustine</td>\n",
              "      <td>NaN</td>\n",
              "      <td>2006-05-07</td>\n",
              "      <td>1,288,987,476 views</td>\n",
              "      <td>Tech, video games, failed cooking attempts, vl...</td>\n",
              "      <td>6.89M subscribers</td>\n",
              "      <td>Cake Decorating Challenge with Ro | Nerdy Numm...</td>\n",
              "      <td>12M views</td>\n",
              "      <td>https://www.youtube.com/watch?v=y7xZ-kJDgvM</td>\n",
              "    </tr>\n",
              "  </tbody>\n",
              "</table>\n",
              "</div>"
            ],
            "text/plain": [
              "  channel_name url_x  ...      views                                        url_y\n",
              "0     iJustine   NaN  ...  18M views  https://www.youtube.com/watch?v=iPgaTmsYTT8\n",
              "1     iJustine   NaN  ...  12M views  https://www.youtube.com/watch?v=y7xZ-kJDgvM\n",
              "\n",
              "[2 rows x 9 columns]"
            ]
          },
          "metadata": {
            "tags": []
          },
          "execution_count": 9
        }
      ]
    },
    {
      "cell_type": "code",
      "metadata": {
        "colab": {
          "base_uri": "https://localhost:8080/",
          "height": 147
        },
        "id": "gW70tgkL1nks",
        "outputId": "462254d2-e5bf-41fa-db8c-c11fb471d002"
      },
      "source": [
        "#hide\n",
        "# drop 2nd url column and rename remaining url col\n",
        "merged.drop(columns=('url_x'),inplace=True)\n",
        "merged.rename(columns={'url_y':'url'},inplace=True)\n",
        "merged.sample(2)"
      ],
      "execution_count": null,
      "outputs": [
        {
          "output_type": "execute_result",
          "data": {
            "text/html": [
              "<div>\n",
              "<style scoped>\n",
              "    .dataframe tbody tr th:only-of-type {\n",
              "        vertical-align: middle;\n",
              "    }\n",
              "\n",
              "    .dataframe tbody tr th {\n",
              "        vertical-align: top;\n",
              "    }\n",
              "\n",
              "    .dataframe thead th {\n",
              "        text-align: right;\n",
              "    }\n",
              "</style>\n",
              "<table border=\"1\" class=\"dataframe\">\n",
              "  <thead>\n",
              "    <tr style=\"text-align: right;\">\n",
              "      <th></th>\n",
              "      <th>channel_name</th>\n",
              "      <th>channel_join_date</th>\n",
              "      <th>channel_views</th>\n",
              "      <th>channel_description</th>\n",
              "      <th>subscribers</th>\n",
              "      <th>title</th>\n",
              "      <th>views</th>\n",
              "      <th>url</th>\n",
              "    </tr>\n",
              "  </thead>\n",
              "  <tbody>\n",
              "    <tr>\n",
              "      <th>1601</th>\n",
              "      <td>UrAvgConsumer</td>\n",
              "      <td>2012-01-01</td>\n",
              "      <td>430,378,637 views</td>\n",
              "      <td>Just your average guy who loves tech and givin...</td>\n",
              "      <td>3.11M subscribers</td>\n",
              "      <td>The ULTIMATE Gamer's Paradise! (Room Tour)</td>\n",
              "      <td>5.9M views</td>\n",
              "      <td>https://www.youtube.com/watch?v=3HTc9xJHbU0</td>\n",
              "    </tr>\n",
              "    <tr>\n",
              "      <th>666</th>\n",
              "      <td>Jon Rettinger</td>\n",
              "      <td>2007-06-07</td>\n",
              "      <td>574,947,199 views</td>\n",
              "      <td>Welcome to the video home of Jon Rettinger, fo...</td>\n",
              "      <td>1.59M subscribers</td>\n",
              "      <td>Galaxy S8 Two Months Later: Was It a Mistake?</td>\n",
              "      <td>1M views</td>\n",
              "      <td>https://www.youtube.com/watch?v=75ZXRi2XyZ0</td>\n",
              "    </tr>\n",
              "  </tbody>\n",
              "</table>\n",
              "</div>"
            ],
            "text/plain": [
              "       channel_name  ...                                          url\n",
              "1601  UrAvgConsumer  ...  https://www.youtube.com/watch?v=3HTc9xJHbU0\n",
              "666   Jon Rettinger  ...  https://www.youtube.com/watch?v=75ZXRi2XyZ0\n",
              "\n",
              "[2 rows x 8 columns]"
            ]
          },
          "metadata": {
            "tags": []
          },
          "execution_count": 11
        }
      ]
    },
    {
      "cell_type": "code",
      "metadata": {
        "colab": {
          "base_uri": "https://localhost:8080/"
        },
        "id": "eTbEKKUwLWY0",
        "outputId": "2cd47a27-cadd-4be0-cb73-04b733578b29"
      },
      "source": [
        "#hide\n",
        "# dtypes to int for views and subscribers\n",
        "merged.subscribers = merged.subscribers.str.replace('M subscribers','000000').str.replace('.','').astype('int')\n",
        "merged.views = merged.views.str.replace('M views','000000').str.replace('K views','000').str.replace('.','').str.replace('1 year ago','0').astype('int')\n",
        "merged.info()"
      ],
      "execution_count": null,
      "outputs": [
        {
          "output_type": "stream",
          "text": [
            "<class 'pandas.core.frame.DataFrame'>\n",
            "Int64Index: 1999 entries, 0 to 1998\n",
            "Data columns (total 8 columns):\n",
            " #   Column               Non-Null Count  Dtype         \n",
            "---  ------               --------------  -----         \n",
            " 0   channel_name         1999 non-null   object        \n",
            " 1   channel_join_date    1999 non-null   datetime64[ns]\n",
            " 2   channel_views        1999 non-null   object        \n",
            " 3   channel_description  1999 non-null   object        \n",
            " 4   subscribers          1999 non-null   int64         \n",
            " 5   title                1999 non-null   object        \n",
            " 6   views                1999 non-null   int64         \n",
            " 7   url                  1999 non-null   object        \n",
            "dtypes: datetime64[ns](1), int64(2), object(5)\n",
            "memory usage: 140.6+ KB\n"
          ],
          "name": "stdout"
        }
      ]
    },
    {
      "cell_type": "markdown",
      "metadata": {
        "id": "fSdazTubl780"
      },
      "source": [
        "#### Cleaned Dataframe Sample\n",
        "\n",
        "_*Data from Youtube Channels' main pages (Video and About)_ "
      ]
    },
    {
      "cell_type": "code",
      "metadata": {
        "colab": {
          "base_uri": "https://localhost:8080/",
          "height": 147
        },
        "id": "rHkfRB0MSTdM",
        "outputId": "b613624d-dd52-47b8-a725-04344aa8f1eb"
      },
      "source": [
        "#collapse\n",
        "# channel views to dtype\n",
        "merged.channel_views = merged.channel_views.str.replace(',','').str.replace('views','').astype('int')\n",
        "merged.head(2)"
      ],
      "execution_count": null,
      "outputs": [
        {
          "output_type": "execute_result",
          "data": {
            "text/html": [
              "<div>\n",
              "<style scoped>\n",
              "    .dataframe tbody tr th:only-of-type {\n",
              "        vertical-align: middle;\n",
              "    }\n",
              "\n",
              "    .dataframe tbody tr th {\n",
              "        vertical-align: top;\n",
              "    }\n",
              "\n",
              "    .dataframe thead th {\n",
              "        text-align: right;\n",
              "    }\n",
              "</style>\n",
              "<table border=\"1\" class=\"dataframe\">\n",
              "  <thead>\n",
              "    <tr style=\"text-align: right;\">\n",
              "      <th></th>\n",
              "      <th>channel_name</th>\n",
              "      <th>channel_join_date</th>\n",
              "      <th>channel_views</th>\n",
              "      <th>channel_description</th>\n",
              "      <th>subscribers</th>\n",
              "      <th>title</th>\n",
              "      <th>views</th>\n",
              "      <th>url</th>\n",
              "    </tr>\n",
              "  </thead>\n",
              "  <tbody>\n",
              "    <tr>\n",
              "      <th>0</th>\n",
              "      <td>iJustine</td>\n",
              "      <td>2006-05-07</td>\n",
              "      <td>1288987476</td>\n",
              "      <td>Tech, video games, failed cooking attempts, vl...</td>\n",
              "      <td>689000000</td>\n",
              "      <td>Black Eyed Peas - I gotta Feeling (Parody)</td>\n",
              "      <td>18000000</td>\n",
              "      <td>https://www.youtube.com/watch?v=iPgaTmsYTT8</td>\n",
              "    </tr>\n",
              "    <tr>\n",
              "      <th>1</th>\n",
              "      <td>iJustine</td>\n",
              "      <td>2006-05-07</td>\n",
              "      <td>1288987476</td>\n",
              "      <td>Tech, video games, failed cooking attempts, vl...</td>\n",
              "      <td>689000000</td>\n",
              "      <td>Cake Decorating Challenge with Ro | Nerdy Numm...</td>\n",
              "      <td>12000000</td>\n",
              "      <td>https://www.youtube.com/watch?v=y7xZ-kJDgvM</td>\n",
              "    </tr>\n",
              "  </tbody>\n",
              "</table>\n",
              "</div>"
            ],
            "text/plain": [
              "  channel_name  ...                                          url\n",
              "0     iJustine  ...  https://www.youtube.com/watch?v=iPgaTmsYTT8\n",
              "1     iJustine  ...  https://www.youtube.com/watch?v=y7xZ-kJDgvM\n",
              "\n",
              "[2 rows x 8 columns]"
            ]
          },
          "metadata": {
            "tags": []
          },
          "execution_count": 13
        }
      ]
    },
    {
      "cell_type": "markdown",
      "metadata": {
        "id": "yN1ZXq462MXY"
      },
      "source": [
        "#hide\n",
        "## Import Videos Data\n",
        "\n",
        "Specific data from 2000 youtube videos"
      ]
    },
    {
      "cell_type": "code",
      "metadata": {
        "colab": {
          "base_uri": "https://localhost:8080/",
          "height": 164
        },
        "id": "U2v_YRSm2hXI",
        "outputId": "064cf1c5-fca4-4c04-e9fb-8587ed9aa4f6"
      },
      "source": [
        "#hide\n",
        "# import videos \n",
        "df_videos = pd.read_csv('yt_videos_scrap_big_data.csv',parse_dates=['Publish Date','Upload_date'])\n",
        "df_videos.drop(columns=['Unnamed: 0','Duration','Channel Name','Title'],inplace=True)\n",
        "df_videos.sample(2)"
      ],
      "execution_count": null,
      "outputs": [
        {
          "output_type": "execute_result",
          "data": {
            "text/html": [
              "<div>\n",
              "<style scoped>\n",
              "    .dataframe tbody tr th:only-of-type {\n",
              "        vertical-align: middle;\n",
              "    }\n",
              "\n",
              "    .dataframe tbody tr th {\n",
              "        vertical-align: top;\n",
              "    }\n",
              "\n",
              "    .dataframe thead th {\n",
              "        text-align: right;\n",
              "    }\n",
              "</style>\n",
              "<table border=\"1\" class=\"dataframe\">\n",
              "  <thead>\n",
              "    <tr style=\"text-align: right;\">\n",
              "      <th></th>\n",
              "      <th>url</th>\n",
              "      <th>Partial Description</th>\n",
              "      <th>Publish Date</th>\n",
              "      <th>Upload_date</th>\n",
              "      <th>Genre</th>\n",
              "      <th>Width</th>\n",
              "      <th>Height</th>\n",
              "      <th>Likes</th>\n",
              "      <th>Comments</th>\n",
              "      <th>Interaction Count</th>\n",
              "    </tr>\n",
              "  </thead>\n",
              "  <tbody>\n",
              "    <tr>\n",
              "      <th>401</th>\n",
              "      <td>https://www.youtube.com/watch?v=iXKvwPjCGnY</td>\n",
              "      <td>The cursed wallpaper that crashes Android phon...</td>\n",
              "      <td>2020-06-04</td>\n",
              "      <td>2020-06-04</td>\n",
              "      <td>Science &amp; Technology</td>\n",
              "      <td>1280.0</td>\n",
              "      <td>720.0</td>\n",
              "      <td>831K</td>\n",
              "      <td>54,129 Comments</td>\n",
              "      <td>15688251</td>\n",
              "    </tr>\n",
              "    <tr>\n",
              "      <th>735</th>\n",
              "      <td>https://www.youtube.com/watch?v=cER36crkkVw</td>\n",
              "      <td>Other iPhone 4 Videos:iPhone 4 Unboxing: http:...</td>\n",
              "      <td>2010-07-06</td>\n",
              "      <td>2010-07-06</td>\n",
              "      <td>Science &amp; Technology</td>\n",
              "      <td>1280.0</td>\n",
              "      <td>720.0</td>\n",
              "      <td>2K</td>\n",
              "      <td>1,086 Comments</td>\n",
              "      <td>568777</td>\n",
              "    </tr>\n",
              "  </tbody>\n",
              "</table>\n",
              "</div>"
            ],
            "text/plain": [
              "                                             url  ... Interaction Count\n",
              "401  https://www.youtube.com/watch?v=iXKvwPjCGnY  ...          15688251\n",
              "735  https://www.youtube.com/watch?v=cER36crkkVw  ...            568777\n",
              "\n",
              "[2 rows x 10 columns]"
            ]
          },
          "metadata": {
            "tags": []
          },
          "execution_count": 128
        }
      ]
    },
    {
      "cell_type": "code",
      "metadata": {
        "colab": {
          "base_uri": "https://localhost:8080/",
          "height": 164
        },
        "id": "Uxx6RkBG3K8E",
        "outputId": "0c2e958f-15f9-4ce0-bfdc-30117162eff6"
      },
      "source": [
        "#hide\n",
        "# comments dytpe to int\n",
        "df_videos['Comments'] = df_videos['Comments'].str.replace('Comments','').str.replace(',','').astype('int')\n",
        "df_videos.sample(2)"
      ],
      "execution_count": null,
      "outputs": [
        {
          "output_type": "execute_result",
          "data": {
            "text/html": [
              "<div>\n",
              "<style scoped>\n",
              "    .dataframe tbody tr th:only-of-type {\n",
              "        vertical-align: middle;\n",
              "    }\n",
              "\n",
              "    .dataframe tbody tr th {\n",
              "        vertical-align: top;\n",
              "    }\n",
              "\n",
              "    .dataframe thead th {\n",
              "        text-align: right;\n",
              "    }\n",
              "</style>\n",
              "<table border=\"1\" class=\"dataframe\">\n",
              "  <thead>\n",
              "    <tr style=\"text-align: right;\">\n",
              "      <th></th>\n",
              "      <th>url</th>\n",
              "      <th>Partial Description</th>\n",
              "      <th>Publish Date</th>\n",
              "      <th>Upload_date</th>\n",
              "      <th>Genre</th>\n",
              "      <th>Width</th>\n",
              "      <th>Height</th>\n",
              "      <th>Likes</th>\n",
              "      <th>Comments</th>\n",
              "      <th>Interaction Count</th>\n",
              "    </tr>\n",
              "  </thead>\n",
              "  <tbody>\n",
              "    <tr>\n",
              "      <th>1948</th>\n",
              "      <td>https://www.youtube.com/watch?v=ZrZISyPucMg</td>\n",
              "      <td>USB-C: The new industry standard for the next ...</td>\n",
              "      <td>2015-03-12</td>\n",
              "      <td>2015-03-12</td>\n",
              "      <td>Science &amp; Technology</td>\n",
              "      <td>1280.0</td>\n",
              "      <td>720.0</td>\n",
              "      <td>82K</td>\n",
              "      <td>4940</td>\n",
              "      <td>4635276</td>\n",
              "    </tr>\n",
              "    <tr>\n",
              "      <th>1363</th>\n",
              "      <td>https://www.youtube.com/watch?v=bjZE1fwAyJ4</td>\n",
              "      <td>So how good is wood?FOLLOW ME IN THESE PLACES ...</td>\n",
              "      <td>2016-01-23</td>\n",
              "      <td>2016-01-23</td>\n",
              "      <td>Science &amp; Technology</td>\n",
              "      <td>1280.0</td>\n",
              "      <td>720.0</td>\n",
              "      <td>98K</td>\n",
              "      <td>6876</td>\n",
              "      <td>5149958</td>\n",
              "    </tr>\n",
              "  </tbody>\n",
              "</table>\n",
              "</div>"
            ],
            "text/plain": [
              "                                              url  ... Interaction Count\n",
              "1948  https://www.youtube.com/watch?v=ZrZISyPucMg  ...           4635276\n",
              "1363  https://www.youtube.com/watch?v=bjZE1fwAyJ4  ...           5149958\n",
              "\n",
              "[2 rows x 10 columns]"
            ]
          },
          "metadata": {
            "tags": []
          },
          "execution_count": 129
        }
      ]
    },
    {
      "cell_type": "code",
      "metadata": {
        "colab": {
          "base_uri": "https://localhost:8080/",
          "height": 164
        },
        "id": "X_NWsgBt8dfQ",
        "outputId": "8d4a7e54-c8e8-478f-c511-9fa73a9d3772"
      },
      "source": [
        "#hide\n",
        "# Likes dytpe to int\n",
        "df_videos['Likes'] = df_videos['Likes'].str.replace('K','000').str.replace(\"M\",'000000').str.replace('.','').astype('int')\n",
        "df_videos.sample(2)"
      ],
      "execution_count": null,
      "outputs": [
        {
          "output_type": "execute_result",
          "data": {
            "text/html": [
              "<div>\n",
              "<style scoped>\n",
              "    .dataframe tbody tr th:only-of-type {\n",
              "        vertical-align: middle;\n",
              "    }\n",
              "\n",
              "    .dataframe tbody tr th {\n",
              "        vertical-align: top;\n",
              "    }\n",
              "\n",
              "    .dataframe thead th {\n",
              "        text-align: right;\n",
              "    }\n",
              "</style>\n",
              "<table border=\"1\" class=\"dataframe\">\n",
              "  <thead>\n",
              "    <tr style=\"text-align: right;\">\n",
              "      <th></th>\n",
              "      <th>url</th>\n",
              "      <th>Partial Description</th>\n",
              "      <th>Publish Date</th>\n",
              "      <th>Upload_date</th>\n",
              "      <th>Genre</th>\n",
              "      <th>Width</th>\n",
              "      <th>Height</th>\n",
              "      <th>Likes</th>\n",
              "      <th>Comments</th>\n",
              "      <th>Interaction Count</th>\n",
              "    </tr>\n",
              "  </thead>\n",
              "  <tbody>\n",
              "    <tr>\n",
              "      <th>234</th>\n",
              "      <td>https://www.youtube.com/watch?v=hHavcoQtYIY</td>\n",
              "      <td>Buy at Amazon: http://geni.us/S6Edge | Read mo...</td>\n",
              "      <td>2015-04-07</td>\n",
              "      <td>2015-04-07</td>\n",
              "      <td>Science &amp; Technology</td>\n",
              "      <td>1280.0</td>\n",
              "      <td>720.0</td>\n",
              "      <td>11000</td>\n",
              "      <td>450</td>\n",
              "      <td>1832509</td>\n",
              "    </tr>\n",
              "    <tr>\n",
              "      <th>1645</th>\n",
              "      <td>https://www.youtube.com/watch?v=YjmWnwKxOls</td>\n",
              "      <td>My unboxing of the Xbox One.Get Hotspot Shield...</td>\n",
              "      <td>2014-01-17</td>\n",
              "      <td>2014-01-17</td>\n",
              "      <td>Science &amp; Technology</td>\n",
              "      <td>1280.0</td>\n",
              "      <td>720.0</td>\n",
              "      <td>17000</td>\n",
              "      <td>2388</td>\n",
              "      <td>1446756</td>\n",
              "    </tr>\n",
              "  </tbody>\n",
              "</table>\n",
              "</div>"
            ],
            "text/plain": [
              "                                              url  ... Interaction Count\n",
              "234   https://www.youtube.com/watch?v=hHavcoQtYIY  ...           1832509\n",
              "1645  https://www.youtube.com/watch?v=YjmWnwKxOls  ...           1446756\n",
              "\n",
              "[2 rows x 10 columns]"
            ]
          },
          "metadata": {
            "tags": []
          },
          "execution_count": 130
        }
      ]
    },
    {
      "cell_type": "code",
      "metadata": {
        "colab": {
          "base_uri": "https://localhost:8080/",
          "height": 164
        },
        "id": "I-ucbnU59QyE",
        "outputId": "c76a45b7-7c20-4335-f1ad-d262591f3925"
      },
      "source": [
        "#hide\n",
        "# Fix Width and Height, remove '.' and '0' from end of str\n",
        "df_videos['Width'] = df_videos['Width'].astype('str').str.split(\".\", expand=True)[0]\n",
        "df_videos['Height'] = df_videos['Height'].astype('str').str.split(\".\", expand=True)[0]\n",
        "df_videos.head(2)"
      ],
      "execution_count": null,
      "outputs": [
        {
          "output_type": "execute_result",
          "data": {
            "text/html": [
              "<div>\n",
              "<style scoped>\n",
              "    .dataframe tbody tr th:only-of-type {\n",
              "        vertical-align: middle;\n",
              "    }\n",
              "\n",
              "    .dataframe tbody tr th {\n",
              "        vertical-align: top;\n",
              "    }\n",
              "\n",
              "    .dataframe thead th {\n",
              "        text-align: right;\n",
              "    }\n",
              "</style>\n",
              "<table border=\"1\" class=\"dataframe\">\n",
              "  <thead>\n",
              "    <tr style=\"text-align: right;\">\n",
              "      <th></th>\n",
              "      <th>url</th>\n",
              "      <th>Partial Description</th>\n",
              "      <th>Publish Date</th>\n",
              "      <th>Upload_date</th>\n",
              "      <th>Genre</th>\n",
              "      <th>Width</th>\n",
              "      <th>Height</th>\n",
              "      <th>Likes</th>\n",
              "      <th>Comments</th>\n",
              "      <th>Interaction Count</th>\n",
              "    </tr>\n",
              "  </thead>\n",
              "  <tbody>\n",
              "    <tr>\n",
              "      <th>0</th>\n",
              "      <td>https://www.youtube.com/watch?v=iPgaTmsYTT8</td>\n",
              "      <td>Thanks for watching! Don't forget to subscribe...</td>\n",
              "      <td>2009-07-30</td>\n",
              "      <td>2009-07-30</td>\n",
              "      <td>Comedy</td>\n",
              "      <td>1280</td>\n",
              "      <td>720</td>\n",
              "      <td>102000</td>\n",
              "      <td>23437</td>\n",
              "      <td>18198670</td>\n",
              "    </tr>\n",
              "    <tr>\n",
              "      <th>1</th>\n",
              "      <td>https://www.youtube.com/watch?v=y7xZ-kJDgvM</td>\n",
              "      <td>Thanks for watching! Don't forget to subscribe...</td>\n",
              "      <td>2016-02-18</td>\n",
              "      <td>2016-02-18</td>\n",
              "      <td>Howto &amp; Style</td>\n",
              "      <td>1280</td>\n",
              "      <td>720</td>\n",
              "      <td>99000</td>\n",
              "      <td>8421</td>\n",
              "      <td>12395700</td>\n",
              "    </tr>\n",
              "  </tbody>\n",
              "</table>\n",
              "</div>"
            ],
            "text/plain": [
              "                                           url  ... Interaction Count\n",
              "0  https://www.youtube.com/watch?v=iPgaTmsYTT8  ...          18198670\n",
              "1  https://www.youtube.com/watch?v=y7xZ-kJDgvM  ...          12395700\n",
              "\n",
              "[2 rows x 10 columns]"
            ]
          },
          "metadata": {
            "tags": []
          },
          "execution_count": 132
        }
      ]
    },
    {
      "cell_type": "markdown",
      "metadata": {
        "id": "J_qtqVTsCOYo"
      },
      "source": [
        "## Cleaned Dataframe\n",
        "\n",
        "Sample of fully cleaned and merged dataframe\n",
        "\n",
        "Data from Youtubes Channels and all Videos pages were merged."
      ]
    },
    {
      "cell_type": "code",
      "metadata": {
        "colab": {
          "base_uri": "https://localhost:8080/",
          "height": 288
        },
        "id": "DLuFtbU2BRqs",
        "outputId": "d3d7050e-d4cd-49a6-a35e-8fbe30baf00f"
      },
      "source": [
        "#collapse\n",
        "# merge df2 \n",
        "vc_merged = merged.merge(df_videos, on='url') \n",
        "vc_merged.rename(columns={\n",
        "    'Partial Description':'video_desc',\n",
        "    'Publish Date':'publish_date',\n",
        "    'Upload_date':'upload_date',\n",
        "    'Interaction Count':'interact_count'\n",
        "    },inplace=True)\n",
        "\n",
        "vc_merged.head(2)"
      ],
      "execution_count": null,
      "outputs": [
        {
          "output_type": "execute_result",
          "data": {
            "text/html": [
              "<div>\n",
              "<style scoped>\n",
              "    .dataframe tbody tr th:only-of-type {\n",
              "        vertical-align: middle;\n",
              "    }\n",
              "\n",
              "    .dataframe tbody tr th {\n",
              "        vertical-align: top;\n",
              "    }\n",
              "\n",
              "    .dataframe thead th {\n",
              "        text-align: right;\n",
              "    }\n",
              "</style>\n",
              "<table border=\"1\" class=\"dataframe\">\n",
              "  <thead>\n",
              "    <tr style=\"text-align: right;\">\n",
              "      <th></th>\n",
              "      <th>channel_name</th>\n",
              "      <th>channel_join_date</th>\n",
              "      <th>channel_views</th>\n",
              "      <th>channel_description</th>\n",
              "      <th>subscribers</th>\n",
              "      <th>title</th>\n",
              "      <th>views</th>\n",
              "      <th>url</th>\n",
              "      <th>video_desc</th>\n",
              "      <th>publish_date</th>\n",
              "      <th>upload_date</th>\n",
              "      <th>Genre</th>\n",
              "      <th>Width</th>\n",
              "      <th>Height</th>\n",
              "      <th>Likes</th>\n",
              "      <th>Comments</th>\n",
              "      <th>interact_count</th>\n",
              "    </tr>\n",
              "  </thead>\n",
              "  <tbody>\n",
              "    <tr>\n",
              "      <th>0</th>\n",
              "      <td>iJustine</td>\n",
              "      <td>2006-05-07</td>\n",
              "      <td>1288987476</td>\n",
              "      <td>Tech, video games, failed cooking attempts, vl...</td>\n",
              "      <td>689000000</td>\n",
              "      <td>Black Eyed Peas - I gotta Feeling (Parody)</td>\n",
              "      <td>18000000</td>\n",
              "      <td>https://www.youtube.com/watch?v=iPgaTmsYTT8</td>\n",
              "      <td>Thanks for watching! Don't forget to subscribe...</td>\n",
              "      <td>2009-07-30</td>\n",
              "      <td>2009-07-30</td>\n",
              "      <td>Comedy</td>\n",
              "      <td>1280</td>\n",
              "      <td>720</td>\n",
              "      <td>102000</td>\n",
              "      <td>23437</td>\n",
              "      <td>18198670</td>\n",
              "    </tr>\n",
              "    <tr>\n",
              "      <th>1</th>\n",
              "      <td>iJustine</td>\n",
              "      <td>2006-05-07</td>\n",
              "      <td>1288987476</td>\n",
              "      <td>Tech, video games, failed cooking attempts, vl...</td>\n",
              "      <td>689000000</td>\n",
              "      <td>Cake Decorating Challenge with Ro | Nerdy Numm...</td>\n",
              "      <td>12000000</td>\n",
              "      <td>https://www.youtube.com/watch?v=y7xZ-kJDgvM</td>\n",
              "      <td>Thanks for watching! Don't forget to subscribe...</td>\n",
              "      <td>2016-02-18</td>\n",
              "      <td>2016-02-18</td>\n",
              "      <td>Howto &amp; Style</td>\n",
              "      <td>1280</td>\n",
              "      <td>720</td>\n",
              "      <td>99000</td>\n",
              "      <td>8421</td>\n",
              "      <td>12395700</td>\n",
              "    </tr>\n",
              "  </tbody>\n",
              "</table>\n",
              "</div>"
            ],
            "text/plain": [
              "  channel_name channel_join_date  ...  Comments interact_count\n",
              "0     iJustine        2006-05-07  ...     23437       18198670\n",
              "1     iJustine        2006-05-07  ...      8421       12395700\n",
              "\n",
              "[2 rows x 17 columns]"
            ]
          },
          "metadata": {
            "tags": []
          },
          "execution_count": 146
        }
      ]
    },
    {
      "cell_type": "markdown",
      "metadata": {
        "id": "6RsDL9aOYx7w"
      },
      "source": [
        "## Data Analysis"
      ]
    },
    {
      "cell_type": "markdown",
      "metadata": {
        "id": "0n5Du1QEl0oE"
      },
      "source": [
        "### List of Youtube Channels in Dataframe"
      ]
    },
    {
      "cell_type": "code",
      "metadata": {
        "colab": {
          "base_uri": "https://localhost:8080/",
          "height": 363
        },
        "id": "VJmkObrolaIw",
        "outputId": "a0e930cd-6b84-4a63-cae0-ecde2756ddc7"
      },
      "source": [
        "#collapse\n",
        "# List of Video Channels\n",
        "vc_merged.groupby(['channel_join_date','channel_name','channel_views','channel_description'])['subscribers'].max().to_frame().reset_index()"
      ],
      "execution_count": null,
      "outputs": [
        {
          "output_type": "execute_result",
          "data": {
            "text/html": [
              "<div>\n",
              "<style scoped>\n",
              "    .dataframe tbody tr th:only-of-type {\n",
              "        vertical-align: middle;\n",
              "    }\n",
              "\n",
              "    .dataframe tbody tr th {\n",
              "        vertical-align: top;\n",
              "    }\n",
              "\n",
              "    .dataframe thead th {\n",
              "        text-align: right;\n",
              "    }\n",
              "</style>\n",
              "<table border=\"1\" class=\"dataframe\">\n",
              "  <thead>\n",
              "    <tr style=\"text-align: right;\">\n",
              "      <th></th>\n",
              "      <th>channel_join_date</th>\n",
              "      <th>channel_name</th>\n",
              "      <th>channel_views</th>\n",
              "      <th>channel_description</th>\n",
              "      <th>subscribers</th>\n",
              "    </tr>\n",
              "  </thead>\n",
              "  <tbody>\n",
              "    <tr>\n",
              "      <th>0</th>\n",
              "      <td>2006-05-07</td>\n",
              "      <td>iJustine</td>\n",
              "      <td>1288987476</td>\n",
              "      <td>Tech, video games, failed cooking attempts, vl...</td>\n",
              "      <td>689000000</td>\n",
              "    </tr>\n",
              "    <tr>\n",
              "      <th>1</th>\n",
              "      <td>2007-06-07</td>\n",
              "      <td>Jon Rettinger</td>\n",
              "      <td>574947199</td>\n",
              "      <td>Welcome to the video home of Jon Rettinger, fo...</td>\n",
              "      <td>159000000</td>\n",
              "    </tr>\n",
              "    <tr>\n",
              "      <th>2</th>\n",
              "      <td>2007-08-04</td>\n",
              "      <td>Austin Evans</td>\n",
              "      <td>1118911675</td>\n",
              "      <td>The best of technology from gaming PCs to smar...</td>\n",
              "      <td>507000000</td>\n",
              "    </tr>\n",
              "    <tr>\n",
              "      <th>3</th>\n",
              "      <td>2008-03-21</td>\n",
              "      <td>Marques Brownlee</td>\n",
              "      <td>2597028774</td>\n",
              "      <td>MKBHD: Quality Tech Videos | YouTuber | Geek |...</td>\n",
              "      <td>143000000</td>\n",
              "    </tr>\n",
              "    <tr>\n",
              "      <th>4</th>\n",
              "      <td>2008-11-24</td>\n",
              "      <td>Linus Tech Tips</td>\n",
              "      <td>4934741560</td>\n",
              "      <td>Tech can be complicated; we try to make it eas...</td>\n",
              "      <td>137000000</td>\n",
              "    </tr>\n",
              "    <tr>\n",
              "      <th>5</th>\n",
              "      <td>2010-03-24</td>\n",
              "      <td>Jonathan Morrison</td>\n",
              "      <td>430639061</td>\n",
              "      <td>High quality videos blending tech + aesthetic,...</td>\n",
              "      <td>264000000</td>\n",
              "    </tr>\n",
              "    <tr>\n",
              "      <th>6</th>\n",
              "      <td>2010-12-21</td>\n",
              "      <td>Unbox Therapy</td>\n",
              "      <td>4091676835</td>\n",
              "      <td>Where products get naked.\\n\\nHere you will fin...</td>\n",
              "      <td>18000000</td>\n",
              "    </tr>\n",
              "    <tr>\n",
              "      <th>7</th>\n",
              "      <td>2011-04-03</td>\n",
              "      <td>Android Authority</td>\n",
              "      <td>767860795</td>\n",
              "      <td>Your source for the best phones, streaming, ap...</td>\n",
              "      <td>336000000</td>\n",
              "    </tr>\n",
              "    <tr>\n",
              "      <th>8</th>\n",
              "      <td>2011-04-20</td>\n",
              "      <td>Mrwhosetheboss</td>\n",
              "      <td>1208148200</td>\n",
              "      <td>My name is Arun Maini. I'm a 25 year old Econo...</td>\n",
              "      <td>771000000</td>\n",
              "    </tr>\n",
              "    <tr>\n",
              "      <th>9</th>\n",
              "      <td>2012-01-01</td>\n",
              "      <td>UrAvgConsumer</td>\n",
              "      <td>430378637</td>\n",
              "      <td>Just your average guy who loves tech and givin...</td>\n",
              "      <td>311000000</td>\n",
              "    </tr>\n",
              "  </tbody>\n",
              "</table>\n",
              "</div>"
            ],
            "text/plain": [
              "  channel_join_date  ... subscribers\n",
              "0        2006-05-07  ...   689000000\n",
              "1        2007-06-07  ...   159000000\n",
              "2        2007-08-04  ...   507000000\n",
              "3        2008-03-21  ...   143000000\n",
              "4        2008-11-24  ...   137000000\n",
              "5        2010-03-24  ...   264000000\n",
              "6        2010-12-21  ...    18000000\n",
              "7        2011-04-03  ...   336000000\n",
              "8        2011-04-20  ...   771000000\n",
              "9        2012-01-01  ...   311000000\n",
              "\n",
              "[10 rows x 5 columns]"
            ]
          },
          "metadata": {
            "tags": []
          },
          "execution_count": 174
        }
      ]
    },
    {
      "cell_type": "markdown",
      "metadata": {
        "id": "5ov8vuAsY1q0"
      },
      "source": [
        "### Top 10 Videos by Views\n",
        "\n",
        "Discoveries so far:\n",
        "\n",
        "* Majority of these vidoes are over a year old.  Meaning that as time goes by more video views will be acquired.\n",
        "\n",
        "* Two videos list a dollar amount in the title.\n",
        "\n",
        "* Marques Brownlee labels some videos (ex: \"Dope Tech\")\n",
        "\n",
        "* Unbox Therapy dominates videos by views list, 8 of 10 videos belong to this channel alone."
      ]
    },
    {
      "cell_type": "code",
      "metadata": {
        "colab": {
          "base_uri": "https://localhost:8080/",
          "height": 363
        },
        "id": "GvBkqfoEXQZk",
        "outputId": "19038519-e8c8-4355-a040-82caeece0d4a"
      },
      "source": [
        "#collapse\n",
        "# Top 10 Videos by Views\n",
        "vc_merged.groupby(['title','channel_name','publish_date'])['views'].max().sort_values(ascending=False).head(10).reset_index()"
      ],
      "execution_count": null,
      "outputs": [
        {
          "output_type": "execute_result",
          "data": {
            "text/html": [
              "<div>\n",
              "<style scoped>\n",
              "    .dataframe tbody tr th:only-of-type {\n",
              "        vertical-align: middle;\n",
              "    }\n",
              "\n",
              "    .dataframe tbody tr th {\n",
              "        vertical-align: top;\n",
              "    }\n",
              "\n",
              "    .dataframe thead th {\n",
              "        text-align: right;\n",
              "    }\n",
              "</style>\n",
              "<table border=\"1\" class=\"dataframe\">\n",
              "  <thead>\n",
              "    <tr style=\"text-align: right;\">\n",
              "      <th></th>\n",
              "      <th>title</th>\n",
              "      <th>channel_name</th>\n",
              "      <th>publish_date</th>\n",
              "      <th>views</th>\n",
              "    </tr>\n",
              "  </thead>\n",
              "  <tbody>\n",
              "    <tr>\n",
              "      <th>0</th>\n",
              "      <td>2020 iPad Pro Review: It's... A Computer?!</td>\n",
              "      <td>Marques Brownlee</td>\n",
              "      <td>2020-03-24</td>\n",
              "      <td>99000000</td>\n",
              "    </tr>\n",
              "    <tr>\n",
              "      <th>1</th>\n",
              "      <td>A Keyboard Made Of Glass?</td>\n",
              "      <td>Unbox Therapy</td>\n",
              "      <td>2016-04-09</td>\n",
              "      <td>98000000</td>\n",
              "    </tr>\n",
              "    <tr>\n",
              "      <th>2</th>\n",
              "      <td>iPhone 12 - The iPhone is New Again</td>\n",
              "      <td>Unbox Therapy</td>\n",
              "      <td>2020-10-13</td>\n",
              "      <td>98000000</td>\n",
              "    </tr>\n",
              "    <tr>\n",
              "      <th>3</th>\n",
              "      <td>The Secret Android Button</td>\n",
              "      <td>Unbox Therapy</td>\n",
              "      <td>2016-04-13</td>\n",
              "      <td>98000000</td>\n",
              "    </tr>\n",
              "    <tr>\n",
              "      <th>4</th>\n",
              "      <td>The FASTEST gaming PC money can buy</td>\n",
              "      <td>Linus Tech Tips</td>\n",
              "      <td>2018-12-27</td>\n",
              "      <td>98000000</td>\n",
              "    </tr>\n",
              "    <tr>\n",
              "      <th>5</th>\n",
              "      <td>Fortnite on an INSANE $20,000 Gaming PC</td>\n",
              "      <td>Unbox Therapy</td>\n",
              "      <td>2018-03-18</td>\n",
              "      <td>98000000</td>\n",
              "    </tr>\n",
              "    <tr>\n",
              "      <th>6</th>\n",
              "      <td>Dope Tech: Self-Lacing Nike Mag!</td>\n",
              "      <td>Marques Brownlee</td>\n",
              "      <td>2016-10-07</td>\n",
              "      <td>98000000</td>\n",
              "    </tr>\n",
              "    <tr>\n",
              "      <th>7</th>\n",
              "      <td>This is the iPhone SE 2</td>\n",
              "      <td>Unbox Therapy</td>\n",
              "      <td>2020-04-15</td>\n",
              "      <td>97000000</td>\n",
              "    </tr>\n",
              "    <tr>\n",
              "      <th>8</th>\n",
              "      <td>Human Headphones Just Changed The Game</td>\n",
              "      <td>Unbox Therapy</td>\n",
              "      <td>2019-08-30</td>\n",
              "      <td>97000000</td>\n",
              "    </tr>\n",
              "    <tr>\n",
              "      <th>9</th>\n",
              "      <td>$1000 Earphones! (Shure SE846 Unboxing &amp; Test)</td>\n",
              "      <td>Unbox Therapy</td>\n",
              "      <td>2014-06-23</td>\n",
              "      <td>97000000</td>\n",
              "    </tr>\n",
              "  </tbody>\n",
              "</table>\n",
              "</div>"
            ],
            "text/plain": [
              "                                            title  ...     views\n",
              "0      2020 iPad Pro Review: It's... A Computer?!  ...  99000000\n",
              "1                       A Keyboard Made Of Glass?  ...  98000000\n",
              "2             iPhone 12 - The iPhone is New Again  ...  98000000\n",
              "3                       The Secret Android Button  ...  98000000\n",
              "4             The FASTEST gaming PC money can buy  ...  98000000\n",
              "5         Fortnite on an INSANE $20,000 Gaming PC  ...  98000000\n",
              "6                Dope Tech: Self-Lacing Nike Mag!  ...  98000000\n",
              "7                         This is the iPhone SE 2  ...  97000000\n",
              "8          Human Headphones Just Changed The Game  ...  97000000\n",
              "9  $1000 Earphones! (Shure SE846 Unboxing & Test)  ...  97000000\n",
              "\n",
              "[10 rows x 4 columns]"
            ]
          },
          "metadata": {
            "tags": []
          },
          "execution_count": 147
        }
      ]
    },
    {
      "cell_type": "markdown",
      "metadata": {
        "id": "RHTt3RGtts8o"
      },
      "source": [
        "### Total Views by Channel"
      ]
    },
    {
      "cell_type": "code",
      "metadata": {
        "colab": {
          "base_uri": "https://localhost:8080/",
          "height": 363
        },
        "id": "pD6GjfndtIno",
        "outputId": "7462ff8e-e2a9-473b-8592-87cd60b90db7"
      },
      "source": [
        "#collapse\n",
        "# Total Views by Channel\n",
        "\n",
        "merged.groupby(['channel_name','subscribers'])['views'].sum().sort_values(ascending=False).reset_index()"
      ],
      "execution_count": null,
      "outputs": [
        {
          "output_type": "execute_result",
          "data": {
            "text/html": [
              "<div>\n",
              "<style scoped>\n",
              "    .dataframe tbody tr th:only-of-type {\n",
              "        vertical-align: middle;\n",
              "    }\n",
              "\n",
              "    .dataframe tbody tr th {\n",
              "        vertical-align: top;\n",
              "    }\n",
              "\n",
              "    .dataframe thead th {\n",
              "        text-align: right;\n",
              "    }\n",
              "</style>\n",
              "<table border=\"1\" class=\"dataframe\">\n",
              "  <thead>\n",
              "    <tr style=\"text-align: right;\">\n",
              "      <th></th>\n",
              "      <th>channel_name</th>\n",
              "      <th>subscribers</th>\n",
              "      <th>views</th>\n",
              "    </tr>\n",
              "  </thead>\n",
              "  <tbody>\n",
              "    <tr>\n",
              "      <th>0</th>\n",
              "      <td>Unbox Therapy</td>\n",
              "      <td>18000000</td>\n",
              "      <td>10357000000</td>\n",
              "    </tr>\n",
              "    <tr>\n",
              "      <th>1</th>\n",
              "      <td>Linus Tech Tips</td>\n",
              "      <td>137000000</td>\n",
              "      <td>9891000000</td>\n",
              "    </tr>\n",
              "    <tr>\n",
              "      <th>2</th>\n",
              "      <td>Marques Brownlee</td>\n",
              "      <td>143000000</td>\n",
              "      <td>9863000000</td>\n",
              "    </tr>\n",
              "    <tr>\n",
              "      <th>3</th>\n",
              "      <td>Mrwhosetheboss</td>\n",
              "      <td>771000000</td>\n",
              "      <td>6816000000</td>\n",
              "    </tr>\n",
              "    <tr>\n",
              "      <th>4</th>\n",
              "      <td>Austin Evans</td>\n",
              "      <td>506000000</td>\n",
              "      <td>5040000000</td>\n",
              "    </tr>\n",
              "    <tr>\n",
              "      <th>5</th>\n",
              "      <td>iJustine</td>\n",
              "      <td>689000000</td>\n",
              "      <td>5016000000</td>\n",
              "    </tr>\n",
              "    <tr>\n",
              "      <th>6</th>\n",
              "      <td>Android Authority</td>\n",
              "      <td>336000000</td>\n",
              "      <td>1590710000</td>\n",
              "    </tr>\n",
              "    <tr>\n",
              "      <th>7</th>\n",
              "      <td>UrAvgConsumer</td>\n",
              "      <td>311000000</td>\n",
              "      <td>1500726000</td>\n",
              "    </tr>\n",
              "    <tr>\n",
              "      <th>8</th>\n",
              "      <td>Jonathan Morrison</td>\n",
              "      <td>264000000</td>\n",
              "      <td>1340206000</td>\n",
              "    </tr>\n",
              "    <tr>\n",
              "      <th>9</th>\n",
              "      <td>Jon Rettinger</td>\n",
              "      <td>159000000</td>\n",
              "      <td>1051486000</td>\n",
              "    </tr>\n",
              "  </tbody>\n",
              "</table>\n",
              "</div>"
            ],
            "text/plain": [
              "        channel_name  subscribers        views\n",
              "0      Unbox Therapy     18000000  10357000000\n",
              "1    Linus Tech Tips    137000000   9891000000\n",
              "2   Marques Brownlee    143000000   9863000000\n",
              "3     Mrwhosetheboss    771000000   6816000000\n",
              "4       Austin Evans    506000000   5040000000\n",
              "5           iJustine    689000000   5016000000\n",
              "6  Android Authority    336000000   1590710000\n",
              "7      UrAvgConsumer    311000000   1500726000\n",
              "8  Jonathan Morrison    264000000   1340206000\n",
              "9      Jon Rettinger    159000000   1051486000"
            ]
          },
          "metadata": {
            "tags": []
          },
          "execution_count": 63
        }
      ]
    },
    {
      "cell_type": "markdown",
      "metadata": {
        "id": "EFYTT6T-tykA"
      },
      "source": [
        "### Channels Grouped By Date They Joined Youtube"
      ]
    },
    {
      "cell_type": "code",
      "metadata": {
        "colab": {
          "base_uri": "https://localhost:8080/",
          "height": 363
        },
        "id": "wSHdiuNXrZK0",
        "outputId": "472ed1e6-f6df-499e-b907-79da94217309"
      },
      "source": [
        "#collapse\n",
        "merged.groupby('channel_name')['channel_join_date'].min().sort_values().to_frame().reset_index()"
      ],
      "execution_count": null,
      "outputs": [
        {
          "output_type": "execute_result",
          "data": {
            "text/html": [
              "<div>\n",
              "<style scoped>\n",
              "    .dataframe tbody tr th:only-of-type {\n",
              "        vertical-align: middle;\n",
              "    }\n",
              "\n",
              "    .dataframe tbody tr th {\n",
              "        vertical-align: top;\n",
              "    }\n",
              "\n",
              "    .dataframe thead th {\n",
              "        text-align: right;\n",
              "    }\n",
              "</style>\n",
              "<table border=\"1\" class=\"dataframe\">\n",
              "  <thead>\n",
              "    <tr style=\"text-align: right;\">\n",
              "      <th></th>\n",
              "      <th>channel_name</th>\n",
              "      <th>channel_join_date</th>\n",
              "    </tr>\n",
              "  </thead>\n",
              "  <tbody>\n",
              "    <tr>\n",
              "      <th>0</th>\n",
              "      <td>iJustine</td>\n",
              "      <td>2006-05-07</td>\n",
              "    </tr>\n",
              "    <tr>\n",
              "      <th>1</th>\n",
              "      <td>Jon Rettinger</td>\n",
              "      <td>2007-06-07</td>\n",
              "    </tr>\n",
              "    <tr>\n",
              "      <th>2</th>\n",
              "      <td>Austin Evans</td>\n",
              "      <td>2007-08-04</td>\n",
              "    </tr>\n",
              "    <tr>\n",
              "      <th>3</th>\n",
              "      <td>Marques Brownlee</td>\n",
              "      <td>2008-03-21</td>\n",
              "    </tr>\n",
              "    <tr>\n",
              "      <th>4</th>\n",
              "      <td>Linus Tech Tips</td>\n",
              "      <td>2008-11-24</td>\n",
              "    </tr>\n",
              "    <tr>\n",
              "      <th>5</th>\n",
              "      <td>Jonathan Morrison</td>\n",
              "      <td>2010-03-24</td>\n",
              "    </tr>\n",
              "    <tr>\n",
              "      <th>6</th>\n",
              "      <td>Unbox Therapy</td>\n",
              "      <td>2010-12-21</td>\n",
              "    </tr>\n",
              "    <tr>\n",
              "      <th>7</th>\n",
              "      <td>Android Authority</td>\n",
              "      <td>2011-04-03</td>\n",
              "    </tr>\n",
              "    <tr>\n",
              "      <th>8</th>\n",
              "      <td>Mrwhosetheboss</td>\n",
              "      <td>2011-04-20</td>\n",
              "    </tr>\n",
              "    <tr>\n",
              "      <th>9</th>\n",
              "      <td>UrAvgConsumer</td>\n",
              "      <td>2012-01-01</td>\n",
              "    </tr>\n",
              "  </tbody>\n",
              "</table>\n",
              "</div>"
            ],
            "text/plain": [
              "        channel_name channel_join_date\n",
              "0           iJustine        2006-05-07\n",
              "1      Jon Rettinger        2007-06-07\n",
              "2       Austin Evans        2007-08-04\n",
              "3   Marques Brownlee        2008-03-21\n",
              "4    Linus Tech Tips        2008-11-24\n",
              "5  Jonathan Morrison        2010-03-24\n",
              "6      Unbox Therapy        2010-12-21\n",
              "7  Android Authority        2011-04-03\n",
              "8     Mrwhosetheboss        2011-04-20\n",
              "9      UrAvgConsumer        2012-01-01"
            ]
          },
          "metadata": {
            "tags": []
          },
          "execution_count": 44
        }
      ]
    },
    {
      "cell_type": "markdown",
      "metadata": {
        "id": "3sqJwCA1_xI0"
      },
      "source": [
        "## Resources\n",
        "\n",
        "- [Top 25 Selenium Functions That Will Make You Pro In Web Scraping](https://towardsdatascience.com/top-25-selenium-functions-that-will-make-you-pro-in-web-scraping-5c937e027244)\n",
        "\n",
        "- [How to build a Web Scraper or Bot in Python using Selenium](https://medium.com/daily-programming-tips/how-to-build-a-web-scraper-or-bot-in-python-using-selenium-2815f20023f7)\n",
        "\n",
        "- [Web Scraping: Introduction, Best Practices & Caveats](https://medium.com/velotio-perspectives/web-scraping-introduction-best-practices-caveats-9cbf4acc8d0f)\n",
        "\n",
        "- [Web Scraping Job Postings from Indeed.com using Selenium](https://towardsdatascience.com/web-scraping-job-postings-from-indeed-com-using-selenium-5ae58d155daf)\n",
        "\n",
        "\n",
        "- [How I Use Selenium to Automate the Web With Python. Pt1 -  John Watson Rooney\n",
        "](https://www.youtube.com/watch?v=pUUhvJvs-R4)"
      ]
    }
  ]
}