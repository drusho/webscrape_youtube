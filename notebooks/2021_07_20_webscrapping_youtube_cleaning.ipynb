{
  "nbformat": 4,
  "nbformat_minor": 0,
  "metadata": {
    "colab": {
      "name": "2021-07-20-webscrapping-youtube_cleaning.ipynb",
      "provenance": [],
      "collapsed_sections": [],
      "authorship_tag": "ABX9TyOLe9TVO/QFH0j2pHPbnV/J",
      "include_colab_link": true
    },
    "kernelspec": {
      "name": "python3",
      "display_name": "Python 3"
    },
    "language_info": {
      "name": "python"
    }
  },
  "cells": [
    {
      "cell_type": "markdown",
      "metadata": {
        "id": "view-in-github",
        "colab_type": "text"
      },
      "source": [
        "<a href=\"https://colab.research.google.com/github/drusho/webscrape_youtube/blob/main/notebooks/2021_07_20_webscrapping_youtube_cleaning.ipynb\" target=\"_parent\"><img src=\"https://colab.research.google.com/assets/colab-badge.svg\" alt=\"Open In Colab\"/></a>"
      ]
    },
    {
      "cell_type": "markdown",
      "metadata": {
        "id": "sriMBGHM_4X4"
      },
      "source": [
        "# Analyzing Youtube Tech Channels\n",
        "> Using Data Collected from Selenium\n",
        "\n",
        "- toc: false\n",
        "- badges: false\n",
        "- comments: true\n",
        "- categories: [Selenium, Web Scrapping, Pandas]\n",
        "- image: \"images/thumbnails/header_youtube_web.png\""
      ]
    },
    {
      "cell_type": "markdown",
      "metadata": {
        "id": "plq838Q7cdQs"
      },
      "source": [
        "<br>\n",
        "\n",
        "> Note: __Notebook Created by David Rusho__\n",
        "* [Github Blog](https://drusho.github.io) | [Github](https://github.com/drusho/webscrape_youtube) | [Tableau](https://public.tableau.com/app/profile/drusho/) | [Linkedin](https://linkedin.com/in/davidrusho)\n",
        "\n",
        "\n",
        "<br> \n",
        "> Important: This notebook contains hidden cells when viewed as a blog post.  Visit the links below for more detailed code:  \n",
        "* [Google Colab Notebook](https://colab.research.google.com/drive/1UxpBBsypGqUj7816zyvGNhJcPfaxBP_c?usp=sharing): **All code** related to data cleaning and data analaysis.\n",
        "* [Github - Youtube Webscrapping](https://github.com/drusho/webscrape_youtube/tree/main/code):  **All code** related to web scrapping and data collection.\n"
      ]
    },
    {
      "cell_type": "markdown",
      "metadata": {
        "id": "QQcSYIoEcrGo"
      },
      "source": [
        "## About the Data\n",
        "\n",
        "Web scraping was performed on the _Top 10 Tech Channels_ on Youtube using _[Selenium](https://selenium-python.readthedocs.io/)_ (an automated browser (driver) controlled using python, which is often used in web scraping and web testing).  These channels were selected using a __[Top 10 Tech Youtubers](https://blog.bit.ai/top-tech-youtubers/)__ list from blog.bit.ai.  \n",
        "\n",
        "Data from 2,000 videos was scrapped, which equals about 200 of most popular videos per channel."
      ]
    },
    {
      "cell_type": "markdown",
      "metadata": {
        "id": "Zm0ocehrIZSE"
      },
      "source": [
        "## Introduction"
      ]
    },
    {
      "cell_type": "markdown",
      "metadata": {
        "id": "Zgl968F6HI4Y"
      },
      "source": [
        "## Data Cleaning"
      ]
    },
    {
      "cell_type": "code",
      "metadata": {
        "id": "gNPkb9yLHMa8"
      },
      "source": [
        "import pandas as pd"
      ],
      "execution_count": null,
      "outputs": []
    },
    {
      "cell_type": "markdown",
      "metadata": {
        "id": "_m_d2muYGFgc"
      },
      "source": [
        "### Import Channel Data\n",
        "Data from Youtube Channels' main pages (Video and About)"
      ]
    },
    {
      "cell_type": "code",
      "metadata": {
        "colab": {
          "base_uri": "https://localhost:8080/",
          "height": 182
        },
        "id": "IvEQLRIxHSsg",
        "outputId": "813caa6d-d2de-4b33-be75-ce459b9e667f"
      },
      "source": [
        "yt = pd.read_csv('yt_channel_scrap.csv',parse_dates=['channel_join_date'])\n",
        "yt.head(2)"
      ],
      "execution_count": null,
      "outputs": [
        {
          "output_type": "execute_result",
          "data": {
            "text/html": [
              "<div>\n",
              "<style scoped>\n",
              "    .dataframe tbody tr th:only-of-type {\n",
              "        vertical-align: middle;\n",
              "    }\n",
              "\n",
              "    .dataframe tbody tr th {\n",
              "        vertical-align: top;\n",
              "    }\n",
              "\n",
              "    .dataframe thead th {\n",
              "        text-align: right;\n",
              "    }\n",
              "</style>\n",
              "<table border=\"1\" class=\"dataframe\">\n",
              "  <thead>\n",
              "    <tr style=\"text-align: right;\">\n",
              "      <th></th>\n",
              "      <th>Unnamed: 0</th>\n",
              "      <th>channel_name</th>\n",
              "      <th>subscribers</th>\n",
              "      <th>title</th>\n",
              "      <th>views</th>\n",
              "      <th>post_date</th>\n",
              "      <th>url</th>\n",
              "      <th>channel_join_date</th>\n",
              "      <th>channel_views</th>\n",
              "      <th>channel_description</th>\n",
              "    </tr>\n",
              "  </thead>\n",
              "  <tbody>\n",
              "    <tr>\n",
              "      <th>0</th>\n",
              "      <td>0</td>\n",
              "      <td>iJustine</td>\n",
              "      <td>6.89M subscribers</td>\n",
              "      <td>Black Eyed Peas - I gotta Feeling (Parody)</td>\n",
              "      <td>18M views</td>\n",
              "      <td>11 years ago</td>\n",
              "      <td>https://www.youtube.com/watch?v=iPgaTmsYTT8</td>\n",
              "      <td>NaT</td>\n",
              "      <td>NaN</td>\n",
              "      <td>NaN</td>\n",
              "    </tr>\n",
              "    <tr>\n",
              "      <th>1</th>\n",
              "      <td>1</td>\n",
              "      <td>iJustine</td>\n",
              "      <td>6.89M subscribers</td>\n",
              "      <td>Cake Decorating Challenge with Ro | Nerdy Numm...</td>\n",
              "      <td>12M views</td>\n",
              "      <td>5 years ago</td>\n",
              "      <td>https://www.youtube.com/watch?v=y7xZ-kJDgvM</td>\n",
              "      <td>NaT</td>\n",
              "      <td>NaN</td>\n",
              "      <td>NaN</td>\n",
              "    </tr>\n",
              "  </tbody>\n",
              "</table>\n",
              "</div>"
            ],
            "text/plain": [
              "   Unnamed: 0 channel_name  ... channel_views channel_description\n",
              "0           0     iJustine  ...           NaN                 NaN\n",
              "1           1     iJustine  ...           NaN                 NaN\n",
              "\n",
              "[2 rows x 10 columns]"
            ]
          },
          "metadata": {
            "tags": []
          },
          "execution_count": 522
        }
      ]
    },
    {
      "cell_type": "code",
      "metadata": {
        "colab": {
          "base_uri": "https://localhost:8080/",
          "height": 112
        },
        "id": "ICOpHLxFHrO0",
        "outputId": "97308c9c-9162-40a6-b894-0c19d3f8928e"
      },
      "source": [
        "# create df of Channel details\n",
        "channel_details = yt[yt.channel_join_date.notna()]\n",
        "channel_details = channel_details.drop(columns=['Unnamed: 0','subscribers','title','views','post_date']).reset_index(drop=True)\n",
        "channel_details.head(2)"
      ],
      "execution_count": null,
      "outputs": [
        {
          "output_type": "execute_result",
          "data": {
            "text/html": [
              "<div>\n",
              "<style scoped>\n",
              "    .dataframe tbody tr th:only-of-type {\n",
              "        vertical-align: middle;\n",
              "    }\n",
              "\n",
              "    .dataframe tbody tr th {\n",
              "        vertical-align: top;\n",
              "    }\n",
              "\n",
              "    .dataframe thead th {\n",
              "        text-align: right;\n",
              "    }\n",
              "</style>\n",
              "<table border=\"1\" class=\"dataframe\">\n",
              "  <thead>\n",
              "    <tr style=\"text-align: right;\">\n",
              "      <th></th>\n",
              "      <th>channel_name</th>\n",
              "      <th>url</th>\n",
              "      <th>channel_join_date</th>\n",
              "      <th>channel_views</th>\n",
              "      <th>channel_description</th>\n",
              "    </tr>\n",
              "  </thead>\n",
              "  <tbody>\n",
              "    <tr>\n",
              "      <th>0</th>\n",
              "      <td>iJustine</td>\n",
              "      <td>NaN</td>\n",
              "      <td>2006-05-07</td>\n",
              "      <td>1,288,987,476 views</td>\n",
              "      <td>Tech, video games, failed cooking attempts, vl...</td>\n",
              "    </tr>\n",
              "    <tr>\n",
              "      <th>1</th>\n",
              "      <td>Android Authority</td>\n",
              "      <td>NaN</td>\n",
              "      <td>2011-04-03</td>\n",
              "      <td>767,860,795 views</td>\n",
              "      <td>Your source for the best phones, streaming, ap...</td>\n",
              "    </tr>\n",
              "  </tbody>\n",
              "</table>\n",
              "</div>"
            ],
            "text/plain": [
              "        channel_name  ...                                channel_description\n",
              "0           iJustine  ...  Tech, video games, failed cooking attempts, vl...\n",
              "1  Android Authority  ...  Your source for the best phones, streaming, ap...\n",
              "\n",
              "[2 rows x 5 columns]"
            ]
          },
          "metadata": {
            "tags": []
          },
          "execution_count": 523
        }
      ]
    },
    {
      "cell_type": "code",
      "metadata": {
        "colab": {
          "base_uri": "https://localhost:8080/",
          "height": 112
        },
        "id": "ZXktrQpaIqqM",
        "outputId": "0e5561d8-96f7-43e3-f2a0-97544e5716a5"
      },
      "source": [
        "#create df Video details\n",
        "video_details = yt[yt.channel_join_date.isna()]\n",
        "video_details = video_details.drop(columns=['Unnamed: 0','channel_join_date','channel_views','channel_description','post_date']).reset_index(drop=True)\n",
        "video_details.head(2)"
      ],
      "execution_count": null,
      "outputs": [
        {
          "output_type": "execute_result",
          "data": {
            "text/html": [
              "<div>\n",
              "<style scoped>\n",
              "    .dataframe tbody tr th:only-of-type {\n",
              "        vertical-align: middle;\n",
              "    }\n",
              "\n",
              "    .dataframe tbody tr th {\n",
              "        vertical-align: top;\n",
              "    }\n",
              "\n",
              "    .dataframe thead th {\n",
              "        text-align: right;\n",
              "    }\n",
              "</style>\n",
              "<table border=\"1\" class=\"dataframe\">\n",
              "  <thead>\n",
              "    <tr style=\"text-align: right;\">\n",
              "      <th></th>\n",
              "      <th>channel_name</th>\n",
              "      <th>subscribers</th>\n",
              "      <th>title</th>\n",
              "      <th>views</th>\n",
              "      <th>url</th>\n",
              "    </tr>\n",
              "  </thead>\n",
              "  <tbody>\n",
              "    <tr>\n",
              "      <th>0</th>\n",
              "      <td>iJustine</td>\n",
              "      <td>6.89M subscribers</td>\n",
              "      <td>Black Eyed Peas - I gotta Feeling (Parody)</td>\n",
              "      <td>18M views</td>\n",
              "      <td>https://www.youtube.com/watch?v=iPgaTmsYTT8</td>\n",
              "    </tr>\n",
              "    <tr>\n",
              "      <th>1</th>\n",
              "      <td>iJustine</td>\n",
              "      <td>6.89M subscribers</td>\n",
              "      <td>Cake Decorating Challenge with Ro | Nerdy Numm...</td>\n",
              "      <td>12M views</td>\n",
              "      <td>https://www.youtube.com/watch?v=y7xZ-kJDgvM</td>\n",
              "    </tr>\n",
              "  </tbody>\n",
              "</table>\n",
              "</div>"
            ],
            "text/plain": [
              "  channel_name  ...                                          url\n",
              "0     iJustine  ...  https://www.youtube.com/watch?v=iPgaTmsYTT8\n",
              "1     iJustine  ...  https://www.youtube.com/watch?v=y7xZ-kJDgvM\n",
              "\n",
              "[2 rows x 5 columns]"
            ]
          },
          "metadata": {
            "tags": []
          },
          "execution_count": 524
        }
      ]
    },
    {
      "cell_type": "markdown",
      "metadata": {
        "id": "9DqK8j5ZOO_0"
      },
      "source": [
        "### Merge Channel Related Dataframes"
      ]
    },
    {
      "cell_type": "code",
      "metadata": {
        "colab": {
          "base_uri": "https://localhost:8080/",
          "height": 147
        },
        "id": "sxhYebCPKkBY",
        "outputId": "5a070e67-9117-4983-ce17-3a7cb340e8b2"
      },
      "source": [
        "# merge dfs \n",
        "merged = channel_details.merge(video_details, on='channel_name')\n",
        "merged.head(2)"
      ],
      "execution_count": null,
      "outputs": [
        {
          "output_type": "execute_result",
          "data": {
            "text/html": [
              "<div>\n",
              "<style scoped>\n",
              "    .dataframe tbody tr th:only-of-type {\n",
              "        vertical-align: middle;\n",
              "    }\n",
              "\n",
              "    .dataframe tbody tr th {\n",
              "        vertical-align: top;\n",
              "    }\n",
              "\n",
              "    .dataframe thead th {\n",
              "        text-align: right;\n",
              "    }\n",
              "</style>\n",
              "<table border=\"1\" class=\"dataframe\">\n",
              "  <thead>\n",
              "    <tr style=\"text-align: right;\">\n",
              "      <th></th>\n",
              "      <th>channel_name</th>\n",
              "      <th>url_x</th>\n",
              "      <th>channel_join_date</th>\n",
              "      <th>channel_views</th>\n",
              "      <th>channel_description</th>\n",
              "      <th>subscribers</th>\n",
              "      <th>title</th>\n",
              "      <th>views</th>\n",
              "      <th>url_y</th>\n",
              "    </tr>\n",
              "  </thead>\n",
              "  <tbody>\n",
              "    <tr>\n",
              "      <th>0</th>\n",
              "      <td>iJustine</td>\n",
              "      <td>NaN</td>\n",
              "      <td>2006-05-07</td>\n",
              "      <td>1,288,987,476 views</td>\n",
              "      <td>Tech, video games, failed cooking attempts, vl...</td>\n",
              "      <td>6.89M subscribers</td>\n",
              "      <td>Black Eyed Peas - I gotta Feeling (Parody)</td>\n",
              "      <td>18M views</td>\n",
              "      <td>https://www.youtube.com/watch?v=iPgaTmsYTT8</td>\n",
              "    </tr>\n",
              "    <tr>\n",
              "      <th>1</th>\n",
              "      <td>iJustine</td>\n",
              "      <td>NaN</td>\n",
              "      <td>2006-05-07</td>\n",
              "      <td>1,288,987,476 views</td>\n",
              "      <td>Tech, video games, failed cooking attempts, vl...</td>\n",
              "      <td>6.89M subscribers</td>\n",
              "      <td>Cake Decorating Challenge with Ro | Nerdy Numm...</td>\n",
              "      <td>12M views</td>\n",
              "      <td>https://www.youtube.com/watch?v=y7xZ-kJDgvM</td>\n",
              "    </tr>\n",
              "  </tbody>\n",
              "</table>\n",
              "</div>"
            ],
            "text/plain": [
              "  channel_name url_x  ...      views                                        url_y\n",
              "0     iJustine   NaN  ...  18M views  https://www.youtube.com/watch?v=iPgaTmsYTT8\n",
              "1     iJustine   NaN  ...  12M views  https://www.youtube.com/watch?v=y7xZ-kJDgvM\n",
              "\n",
              "[2 rows x 9 columns]"
            ]
          },
          "metadata": {
            "tags": []
          },
          "execution_count": 525
        }
      ]
    },
    {
      "cell_type": "code",
      "metadata": {
        "colab": {
          "base_uri": "https://localhost:8080/",
          "height": 293
        },
        "id": "gW70tgkL1nks",
        "outputId": "c2301a2d-5f17-493e-da60-924e478a8d9f"
      },
      "source": [
        "# drop 2nd url column and rename remaining url col\n",
        "merged.drop(columns=('url_x'),inplace=True)\n",
        "merged.rename(columns={'url_y':'url'},inplace=True)\n",
        "merged.head()"
      ],
      "execution_count": null,
      "outputs": [
        {
          "output_type": "execute_result",
          "data": {
            "text/html": [
              "<div>\n",
              "<style scoped>\n",
              "    .dataframe tbody tr th:only-of-type {\n",
              "        vertical-align: middle;\n",
              "    }\n",
              "\n",
              "    .dataframe tbody tr th {\n",
              "        vertical-align: top;\n",
              "    }\n",
              "\n",
              "    .dataframe thead th {\n",
              "        text-align: right;\n",
              "    }\n",
              "</style>\n",
              "<table border=\"1\" class=\"dataframe\">\n",
              "  <thead>\n",
              "    <tr style=\"text-align: right;\">\n",
              "      <th></th>\n",
              "      <th>channel_name</th>\n",
              "      <th>channel_join_date</th>\n",
              "      <th>channel_views</th>\n",
              "      <th>channel_description</th>\n",
              "      <th>subscribers</th>\n",
              "      <th>title</th>\n",
              "      <th>views</th>\n",
              "      <th>url</th>\n",
              "    </tr>\n",
              "  </thead>\n",
              "  <tbody>\n",
              "    <tr>\n",
              "      <th>0</th>\n",
              "      <td>iJustine</td>\n",
              "      <td>2006-05-07</td>\n",
              "      <td>1,288,987,476 views</td>\n",
              "      <td>Tech, video games, failed cooking attempts, vl...</td>\n",
              "      <td>6.89M subscribers</td>\n",
              "      <td>Black Eyed Peas - I gotta Feeling (Parody)</td>\n",
              "      <td>18M views</td>\n",
              "      <td>https://www.youtube.com/watch?v=iPgaTmsYTT8</td>\n",
              "    </tr>\n",
              "    <tr>\n",
              "      <th>1</th>\n",
              "      <td>iJustine</td>\n",
              "      <td>2006-05-07</td>\n",
              "      <td>1,288,987,476 views</td>\n",
              "      <td>Tech, video games, failed cooking attempts, vl...</td>\n",
              "      <td>6.89M subscribers</td>\n",
              "      <td>Cake Decorating Challenge with Ro | Nerdy Numm...</td>\n",
              "      <td>12M views</td>\n",
              "      <td>https://www.youtube.com/watch?v=y7xZ-kJDgvM</td>\n",
              "    </tr>\n",
              "    <tr>\n",
              "      <th>2</th>\n",
              "      <td>iJustine</td>\n",
              "      <td>2006-05-07</td>\n",
              "      <td>1,288,987,476 views</td>\n",
              "      <td>Tech, video games, failed cooking attempts, vl...</td>\n",
              "      <td>6.89M subscribers</td>\n",
              "      <td>The Voice of Siri!</td>\n",
              "      <td>11M views</td>\n",
              "      <td>https://www.youtube.com/watch?v=W2bc72HClEE</td>\n",
              "    </tr>\n",
              "    <tr>\n",
              "      <th>3</th>\n",
              "      <td>iJustine</td>\n",
              "      <td>2006-05-07</td>\n",
              "      <td>1,288,987,476 views</td>\n",
              "      <td>Tech, video games, failed cooking attempts, vl...</td>\n",
              "      <td>6.89M subscribers</td>\n",
              "      <td>Ugliest iPhone Cases Ever?</td>\n",
              "      <td>9.4M views</td>\n",
              "      <td>https://www.youtube.com/watch?v=x06yBIHu26o</td>\n",
              "    </tr>\n",
              "    <tr>\n",
              "      <th>4</th>\n",
              "      <td>iJustine</td>\n",
              "      <td>2006-05-07</td>\n",
              "      <td>1,288,987,476 views</td>\n",
              "      <td>Tech, video games, failed cooking attempts, vl...</td>\n",
              "      <td>6.89M subscribers</td>\n",
              "      <td>Making a mini cake with Ro!</td>\n",
              "      <td>9.1M views</td>\n",
              "      <td>https://www.youtube.com/watch?v=MdmGtxyzwHA</td>\n",
              "    </tr>\n",
              "  </tbody>\n",
              "</table>\n",
              "</div>"
            ],
            "text/plain": [
              "  channel_name  ...                                          url\n",
              "0     iJustine  ...  https://www.youtube.com/watch?v=iPgaTmsYTT8\n",
              "1     iJustine  ...  https://www.youtube.com/watch?v=y7xZ-kJDgvM\n",
              "2     iJustine  ...  https://www.youtube.com/watch?v=W2bc72HClEE\n",
              "3     iJustine  ...  https://www.youtube.com/watch?v=x06yBIHu26o\n",
              "4     iJustine  ...  https://www.youtube.com/watch?v=MdmGtxyzwHA\n",
              "\n",
              "[5 rows x 8 columns]"
            ]
          },
          "metadata": {
            "tags": []
          },
          "execution_count": 526
        }
      ]
    },
    {
      "cell_type": "code",
      "metadata": {
        "colab": {
          "base_uri": "https://localhost:8080/",
          "height": 147
        },
        "id": "eTbEKKUwLWY0",
        "outputId": "5e114bd0-3f31-48b1-dd47-ad8f2c0d70e6"
      },
      "source": [
        "# dtypes to float for views and subscribers\n",
        "merged.subscribers = merged.subscribers.str.replace('M subscribers','').astype('float')*1000000\n",
        "merged.head(2)"
      ],
      "execution_count": null,
      "outputs": [
        {
          "output_type": "execute_result",
          "data": {
            "text/html": [
              "<div>\n",
              "<style scoped>\n",
              "    .dataframe tbody tr th:only-of-type {\n",
              "        vertical-align: middle;\n",
              "    }\n",
              "\n",
              "    .dataframe tbody tr th {\n",
              "        vertical-align: top;\n",
              "    }\n",
              "\n",
              "    .dataframe thead th {\n",
              "        text-align: right;\n",
              "    }\n",
              "</style>\n",
              "<table border=\"1\" class=\"dataframe\">\n",
              "  <thead>\n",
              "    <tr style=\"text-align: right;\">\n",
              "      <th></th>\n",
              "      <th>channel_name</th>\n",
              "      <th>channel_join_date</th>\n",
              "      <th>channel_views</th>\n",
              "      <th>channel_description</th>\n",
              "      <th>subscribers</th>\n",
              "      <th>title</th>\n",
              "      <th>views</th>\n",
              "      <th>url</th>\n",
              "    </tr>\n",
              "  </thead>\n",
              "  <tbody>\n",
              "    <tr>\n",
              "      <th>0</th>\n",
              "      <td>iJustine</td>\n",
              "      <td>2006-05-07</td>\n",
              "      <td>1,288,987,476 views</td>\n",
              "      <td>Tech, video games, failed cooking attempts, vl...</td>\n",
              "      <td>6890000.0</td>\n",
              "      <td>Black Eyed Peas - I gotta Feeling (Parody)</td>\n",
              "      <td>18M views</td>\n",
              "      <td>https://www.youtube.com/watch?v=iPgaTmsYTT8</td>\n",
              "    </tr>\n",
              "    <tr>\n",
              "      <th>1</th>\n",
              "      <td>iJustine</td>\n",
              "      <td>2006-05-07</td>\n",
              "      <td>1,288,987,476 views</td>\n",
              "      <td>Tech, video games, failed cooking attempts, vl...</td>\n",
              "      <td>6890000.0</td>\n",
              "      <td>Cake Decorating Challenge with Ro | Nerdy Numm...</td>\n",
              "      <td>12M views</td>\n",
              "      <td>https://www.youtube.com/watch?v=y7xZ-kJDgvM</td>\n",
              "    </tr>\n",
              "  </tbody>\n",
              "</table>\n",
              "</div>"
            ],
            "text/plain": [
              "  channel_name  ...                                          url\n",
              "0     iJustine  ...  https://www.youtube.com/watch?v=iPgaTmsYTT8\n",
              "1     iJustine  ...  https://www.youtube.com/watch?v=y7xZ-kJDgvM\n",
              "\n",
              "[2 rows x 8 columns]"
            ]
          },
          "metadata": {
            "tags": []
          },
          "execution_count": 527
        }
      ]
    },
    {
      "cell_type": "code",
      "metadata": {
        "colab": {
          "base_uri": "https://localhost:8080/",
          "height": 147
        },
        "id": "VmD7fcGjFOMc",
        "outputId": "adde7e13-d9a7-4c81-eaaf-51e2835ad7b4"
      },
      "source": [
        "# modify views col dtype to float\n",
        "def fix_views(col):\n",
        "  if 'M' in col:\n",
        "    return float(col.replace('M views',''))*1000000\n",
        "  elif 'K' in col:\n",
        "    return float(col.replace('K views',''))*1000\n",
        "  elif '1 year ago' in col:\n",
        "    return 0\n",
        "\n",
        "merged['views'] = merged['views'].apply(fix_views)\n",
        "\n",
        "merged.head(2)"
      ],
      "execution_count": null,
      "outputs": [
        {
          "output_type": "execute_result",
          "data": {
            "text/html": [
              "<div>\n",
              "<style scoped>\n",
              "    .dataframe tbody tr th:only-of-type {\n",
              "        vertical-align: middle;\n",
              "    }\n",
              "\n",
              "    .dataframe tbody tr th {\n",
              "        vertical-align: top;\n",
              "    }\n",
              "\n",
              "    .dataframe thead th {\n",
              "        text-align: right;\n",
              "    }\n",
              "</style>\n",
              "<table border=\"1\" class=\"dataframe\">\n",
              "  <thead>\n",
              "    <tr style=\"text-align: right;\">\n",
              "      <th></th>\n",
              "      <th>channel_name</th>\n",
              "      <th>channel_join_date</th>\n",
              "      <th>channel_views</th>\n",
              "      <th>channel_description</th>\n",
              "      <th>subscribers</th>\n",
              "      <th>title</th>\n",
              "      <th>views</th>\n",
              "      <th>url</th>\n",
              "    </tr>\n",
              "  </thead>\n",
              "  <tbody>\n",
              "    <tr>\n",
              "      <th>0</th>\n",
              "      <td>iJustine</td>\n",
              "      <td>2006-05-07</td>\n",
              "      <td>1,288,987,476 views</td>\n",
              "      <td>Tech, video games, failed cooking attempts, vl...</td>\n",
              "      <td>6890000.0</td>\n",
              "      <td>Black Eyed Peas - I gotta Feeling (Parody)</td>\n",
              "      <td>18000000.0</td>\n",
              "      <td>https://www.youtube.com/watch?v=iPgaTmsYTT8</td>\n",
              "    </tr>\n",
              "    <tr>\n",
              "      <th>1</th>\n",
              "      <td>iJustine</td>\n",
              "      <td>2006-05-07</td>\n",
              "      <td>1,288,987,476 views</td>\n",
              "      <td>Tech, video games, failed cooking attempts, vl...</td>\n",
              "      <td>6890000.0</td>\n",
              "      <td>Cake Decorating Challenge with Ro | Nerdy Numm...</td>\n",
              "      <td>12000000.0</td>\n",
              "      <td>https://www.youtube.com/watch?v=y7xZ-kJDgvM</td>\n",
              "    </tr>\n",
              "  </tbody>\n",
              "</table>\n",
              "</div>"
            ],
            "text/plain": [
              "  channel_name  ...                                          url\n",
              "0     iJustine  ...  https://www.youtube.com/watch?v=iPgaTmsYTT8\n",
              "1     iJustine  ...  https://www.youtube.com/watch?v=y7xZ-kJDgvM\n",
              "\n",
              "[2 rows x 8 columns]"
            ]
          },
          "metadata": {
            "tags": []
          },
          "execution_count": 528
        }
      ]
    },
    {
      "cell_type": "code",
      "metadata": {
        "id": "faIuF1F2IxRQ"
      },
      "source": [
        "# Correct channel view column to display num only\n",
        "merged['channel_views'] = merged['channel_views'].str.replace(',','').str.replace(' views','').astype('int')"
      ],
      "execution_count": null,
      "outputs": []
    },
    {
      "cell_type": "markdown",
      "metadata": {
        "id": "yN1ZXq462MXY"
      },
      "source": [
        "### Import Videos Data\n",
        "\n",
        "Specific data from 2000 youtube videos"
      ]
    },
    {
      "cell_type": "code",
      "metadata": {
        "colab": {
          "base_uri": "https://localhost:8080/",
          "height": 164
        },
        "id": "U2v_YRSm2hXI",
        "outputId": "750fc4de-9b24-4282-e692-c3fecbdd43f6"
      },
      "source": [
        "# import videos \n",
        "df_videos = pd.read_csv('yt_videos_scrap_big_data.csv',parse_dates=['Publish Date','Upload_date'])\n",
        "df_videos.drop(columns=['Unnamed: 0','Duration','Channel Name','Title'],inplace=True)\n",
        "df_videos.sample(2)"
      ],
      "execution_count": null,
      "outputs": [
        {
          "output_type": "execute_result",
          "data": {
            "text/html": [
              "<div>\n",
              "<style scoped>\n",
              "    .dataframe tbody tr th:only-of-type {\n",
              "        vertical-align: middle;\n",
              "    }\n",
              "\n",
              "    .dataframe tbody tr th {\n",
              "        vertical-align: top;\n",
              "    }\n",
              "\n",
              "    .dataframe thead th {\n",
              "        text-align: right;\n",
              "    }\n",
              "</style>\n",
              "<table border=\"1\" class=\"dataframe\">\n",
              "  <thead>\n",
              "    <tr style=\"text-align: right;\">\n",
              "      <th></th>\n",
              "      <th>url</th>\n",
              "      <th>Partial Description</th>\n",
              "      <th>Publish Date</th>\n",
              "      <th>Upload_date</th>\n",
              "      <th>Genre</th>\n",
              "      <th>Width</th>\n",
              "      <th>Height</th>\n",
              "      <th>Likes</th>\n",
              "      <th>Comments</th>\n",
              "      <th>Interaction Count</th>\n",
              "    </tr>\n",
              "  </thead>\n",
              "  <tbody>\n",
              "    <tr>\n",
              "      <th>1186</th>\n",
              "      <td>https://www.youtube.com/watch?v=P0r9wR-Z2dc</td>\n",
              "      <td>For $200 how does a new vs used Windows 10 lap...</td>\n",
              "      <td>2018-03-11</td>\n",
              "      <td>2018-03-11</td>\n",
              "      <td>Science &amp; Technology</td>\n",
              "      <td>1280.0</td>\n",
              "      <td>720.0</td>\n",
              "      <td>31K</td>\n",
              "      <td>3,469 Comments</td>\n",
              "      <td>1634850</td>\n",
              "    </tr>\n",
              "    <tr>\n",
              "      <th>1209</th>\n",
              "      <td>https://www.youtube.com/watch?v=j6T1Mygucak</td>\n",
              "      <td>Use sharp scissors like these - http://amzn.to...</td>\n",
              "      <td>2012-12-08</td>\n",
              "      <td>2012-12-08</td>\n",
              "      <td>Science &amp; Technology</td>\n",
              "      <td>1280.0</td>\n",
              "      <td>720.0</td>\n",
              "      <td>46K</td>\n",
              "      <td>3,257 Comments</td>\n",
              "      <td>14169813</td>\n",
              "    </tr>\n",
              "  </tbody>\n",
              "</table>\n",
              "</div>"
            ],
            "text/plain": [
              "                                              url  ... Interaction Count\n",
              "1186  https://www.youtube.com/watch?v=P0r9wR-Z2dc  ...           1634850\n",
              "1209  https://www.youtube.com/watch?v=j6T1Mygucak  ...          14169813\n",
              "\n",
              "[2 rows x 10 columns]"
            ]
          },
          "metadata": {
            "tags": []
          },
          "execution_count": 530
        }
      ]
    },
    {
      "cell_type": "code",
      "metadata": {
        "colab": {
          "base_uri": "https://localhost:8080/",
          "height": 164
        },
        "id": "Uxx6RkBG3K8E",
        "outputId": "4a256df0-3489-45cb-be5e-72b3536c9948"
      },
      "source": [
        "# comments dytpe to int\n",
        "df_videos['Comments'] = df_videos['Comments'].str.replace('Comments','').str.replace(',','').astype('int')\n",
        "df_videos.sample(2)"
      ],
      "execution_count": null,
      "outputs": [
        {
          "output_type": "execute_result",
          "data": {
            "text/html": [
              "<div>\n",
              "<style scoped>\n",
              "    .dataframe tbody tr th:only-of-type {\n",
              "        vertical-align: middle;\n",
              "    }\n",
              "\n",
              "    .dataframe tbody tr th {\n",
              "        vertical-align: top;\n",
              "    }\n",
              "\n",
              "    .dataframe thead th {\n",
              "        text-align: right;\n",
              "    }\n",
              "</style>\n",
              "<table border=\"1\" class=\"dataframe\">\n",
              "  <thead>\n",
              "    <tr style=\"text-align: right;\">\n",
              "      <th></th>\n",
              "      <th>url</th>\n",
              "      <th>Partial Description</th>\n",
              "      <th>Publish Date</th>\n",
              "      <th>Upload_date</th>\n",
              "      <th>Genre</th>\n",
              "      <th>Width</th>\n",
              "      <th>Height</th>\n",
              "      <th>Likes</th>\n",
              "      <th>Comments</th>\n",
              "      <th>Interaction Count</th>\n",
              "    </tr>\n",
              "  </thead>\n",
              "  <tbody>\n",
              "    <tr>\n",
              "      <th>1087</th>\n",
              "      <td>https://www.youtube.com/watch?v=TOyazdH2b-U</td>\n",
              "      <td>That's it. Ken has officially gone too far in ...</td>\n",
              "      <td>2019-04-01</td>\n",
              "      <td>2019-04-01</td>\n",
              "      <td>Science &amp; Technology</td>\n",
              "      <td>1280.0</td>\n",
              "      <td>720.0</td>\n",
              "      <td>55K</td>\n",
              "      <td>2890</td>\n",
              "      <td>2348400</td>\n",
              "    </tr>\n",
              "    <tr>\n",
              "      <th>1744</th>\n",
              "      <td>https://www.youtube.com/watch?v=K43mTKyaed8</td>\n",
              "      <td>It’s that time again! We’ve got another massiv...</td>\n",
              "      <td>2017-10-14</td>\n",
              "      <td>2017-10-14</td>\n",
              "      <td>Science &amp; Technology</td>\n",
              "      <td>1280.0</td>\n",
              "      <td>720.0</td>\n",
              "      <td>18K</td>\n",
              "      <td>1397</td>\n",
              "      <td>769452</td>\n",
              "    </tr>\n",
              "  </tbody>\n",
              "</table>\n",
              "</div>"
            ],
            "text/plain": [
              "                                              url  ... Interaction Count\n",
              "1087  https://www.youtube.com/watch?v=TOyazdH2b-U  ...           2348400\n",
              "1744  https://www.youtube.com/watch?v=K43mTKyaed8  ...            769452\n",
              "\n",
              "[2 rows x 10 columns]"
            ]
          },
          "metadata": {
            "tags": []
          },
          "execution_count": 531
        }
      ]
    },
    {
      "cell_type": "code",
      "metadata": {
        "colab": {
          "base_uri": "https://localhost:8080/",
          "height": 164
        },
        "id": "X_NWsgBt8dfQ",
        "outputId": "f8124c6e-229e-4a11-853a-326e8306f6d2"
      },
      "source": [
        "# modify likes col dtype to float\n",
        "def fix_likes(col):\n",
        "  if 'M' in col:\n",
        "    return float(col.replace('M',''))*1000000\n",
        "  elif 'K' in col:\n",
        "    return float(col.replace('K',''))*1000\n",
        "  else:\n",
        "    return float(col)\n",
        "\n",
        "df_videos['Likes'] = df_videos['Likes'].apply(fix_likes)\n",
        "\n",
        "df_videos.head(2)"
      ],
      "execution_count": null,
      "outputs": [
        {
          "output_type": "execute_result",
          "data": {
            "text/html": [
              "<div>\n",
              "<style scoped>\n",
              "    .dataframe tbody tr th:only-of-type {\n",
              "        vertical-align: middle;\n",
              "    }\n",
              "\n",
              "    .dataframe tbody tr th {\n",
              "        vertical-align: top;\n",
              "    }\n",
              "\n",
              "    .dataframe thead th {\n",
              "        text-align: right;\n",
              "    }\n",
              "</style>\n",
              "<table border=\"1\" class=\"dataframe\">\n",
              "  <thead>\n",
              "    <tr style=\"text-align: right;\">\n",
              "      <th></th>\n",
              "      <th>url</th>\n",
              "      <th>Partial Description</th>\n",
              "      <th>Publish Date</th>\n",
              "      <th>Upload_date</th>\n",
              "      <th>Genre</th>\n",
              "      <th>Width</th>\n",
              "      <th>Height</th>\n",
              "      <th>Likes</th>\n",
              "      <th>Comments</th>\n",
              "      <th>Interaction Count</th>\n",
              "    </tr>\n",
              "  </thead>\n",
              "  <tbody>\n",
              "    <tr>\n",
              "      <th>0</th>\n",
              "      <td>https://www.youtube.com/watch?v=iPgaTmsYTT8</td>\n",
              "      <td>Thanks for watching! Don't forget to subscribe...</td>\n",
              "      <td>2009-07-30</td>\n",
              "      <td>2009-07-30</td>\n",
              "      <td>Comedy</td>\n",
              "      <td>1280.0</td>\n",
              "      <td>720.0</td>\n",
              "      <td>102000.0</td>\n",
              "      <td>23437</td>\n",
              "      <td>18198670</td>\n",
              "    </tr>\n",
              "    <tr>\n",
              "      <th>1</th>\n",
              "      <td>https://www.youtube.com/watch?v=y7xZ-kJDgvM</td>\n",
              "      <td>Thanks for watching! Don't forget to subscribe...</td>\n",
              "      <td>2016-02-18</td>\n",
              "      <td>2016-02-18</td>\n",
              "      <td>Howto &amp; Style</td>\n",
              "      <td>1280.0</td>\n",
              "      <td>720.0</td>\n",
              "      <td>99000.0</td>\n",
              "      <td>8421</td>\n",
              "      <td>12395700</td>\n",
              "    </tr>\n",
              "  </tbody>\n",
              "</table>\n",
              "</div>"
            ],
            "text/plain": [
              "                                           url  ... Interaction Count\n",
              "0  https://www.youtube.com/watch?v=iPgaTmsYTT8  ...          18198670\n",
              "1  https://www.youtube.com/watch?v=y7xZ-kJDgvM  ...          12395700\n",
              "\n",
              "[2 rows x 10 columns]"
            ]
          },
          "metadata": {
            "tags": []
          },
          "execution_count": 532
        }
      ]
    },
    {
      "cell_type": "code",
      "metadata": {
        "colab": {
          "base_uri": "https://localhost:8080/",
          "height": 164
        },
        "id": "I-ucbnU59QyE",
        "outputId": "d38d3047-7b5f-4e75-a7ca-7dd44e77b892"
      },
      "source": [
        "# Fix Width and Height, remove '.' and '0' from end of str\n",
        "df_videos['Width'] = df_videos['Width'].astype('str').str.split(\".\", expand=True)[0]\n",
        "df_videos['Height'] = df_videos['Height'].astype('str').str.split(\".\", expand=True)[0]\n",
        "df_videos.head(2)"
      ],
      "execution_count": null,
      "outputs": [
        {
          "output_type": "execute_result",
          "data": {
            "text/html": [
              "<div>\n",
              "<style scoped>\n",
              "    .dataframe tbody tr th:only-of-type {\n",
              "        vertical-align: middle;\n",
              "    }\n",
              "\n",
              "    .dataframe tbody tr th {\n",
              "        vertical-align: top;\n",
              "    }\n",
              "\n",
              "    .dataframe thead th {\n",
              "        text-align: right;\n",
              "    }\n",
              "</style>\n",
              "<table border=\"1\" class=\"dataframe\">\n",
              "  <thead>\n",
              "    <tr style=\"text-align: right;\">\n",
              "      <th></th>\n",
              "      <th>url</th>\n",
              "      <th>Partial Description</th>\n",
              "      <th>Publish Date</th>\n",
              "      <th>Upload_date</th>\n",
              "      <th>Genre</th>\n",
              "      <th>Width</th>\n",
              "      <th>Height</th>\n",
              "      <th>Likes</th>\n",
              "      <th>Comments</th>\n",
              "      <th>Interaction Count</th>\n",
              "    </tr>\n",
              "  </thead>\n",
              "  <tbody>\n",
              "    <tr>\n",
              "      <th>0</th>\n",
              "      <td>https://www.youtube.com/watch?v=iPgaTmsYTT8</td>\n",
              "      <td>Thanks for watching! Don't forget to subscribe...</td>\n",
              "      <td>2009-07-30</td>\n",
              "      <td>2009-07-30</td>\n",
              "      <td>Comedy</td>\n",
              "      <td>1280</td>\n",
              "      <td>720</td>\n",
              "      <td>102000.0</td>\n",
              "      <td>23437</td>\n",
              "      <td>18198670</td>\n",
              "    </tr>\n",
              "    <tr>\n",
              "      <th>1</th>\n",
              "      <td>https://www.youtube.com/watch?v=y7xZ-kJDgvM</td>\n",
              "      <td>Thanks for watching! Don't forget to subscribe...</td>\n",
              "      <td>2016-02-18</td>\n",
              "      <td>2016-02-18</td>\n",
              "      <td>Howto &amp; Style</td>\n",
              "      <td>1280</td>\n",
              "      <td>720</td>\n",
              "      <td>99000.0</td>\n",
              "      <td>8421</td>\n",
              "      <td>12395700</td>\n",
              "    </tr>\n",
              "  </tbody>\n",
              "</table>\n",
              "</div>"
            ],
            "text/plain": [
              "                                           url  ... Interaction Count\n",
              "0  https://www.youtube.com/watch?v=iPgaTmsYTT8  ...          18198670\n",
              "1  https://www.youtube.com/watch?v=y7xZ-kJDgvM  ...          12395700\n",
              "\n",
              "[2 rows x 10 columns]"
            ]
          },
          "metadata": {
            "tags": []
          },
          "execution_count": 533
        }
      ]
    },
    {
      "cell_type": "markdown",
      "metadata": {
        "id": "yOLgMRxaOCsU"
      },
      "source": [
        "### Merging All Dataframes"
      ]
    },
    {
      "cell_type": "code",
      "metadata": {
        "colab": {
          "base_uri": "https://localhost:8080/",
          "height": 323
        },
        "id": "DLuFtbU2BRqs",
        "outputId": "7aa8dd4b-8182-497f-e2bb-d958813dc2d6"
      },
      "source": [
        "vc_merged = merged.merge(df_videos, on='url') \n",
        "\n",
        "# rename columns to increase readability in analysis plots and tables\n",
        "vc_merged.rename(columns={\n",
        "    'channel_name':'Channel Name',\n",
        "    'channel_join_date':'Channel Join Date',\n",
        "    'channel_views':'Channel Views (M)',\n",
        "    'subscribers':'Subscribers (M)',\n",
        "    'Interaction Count':'Interactations (M)',\n",
        "    'views':'Video Views (M)',\n",
        "    'Partial Description':'Video Desc',\n",
        "    'Publish Date':'Publish Date',\n",
        "    'Upload_date':'Upload Date',\n",
        "    'Genre':'Video Genre',\n",
        "    'Width':'Width',\n",
        "    'Height':'Height',\n",
        "    'Comments':'Video Comments',\n",
        "    'title':'Video Title',\n",
        "    'url':'Video URL'\n",
        "    },inplace=True)\n",
        "\n",
        "vc_merged.head(2)"
      ],
      "execution_count": null,
      "outputs": [
        {
          "output_type": "execute_result",
          "data": {
            "text/html": [
              "<div>\n",
              "<style scoped>\n",
              "    .dataframe tbody tr th:only-of-type {\n",
              "        vertical-align: middle;\n",
              "    }\n",
              "\n",
              "    .dataframe tbody tr th {\n",
              "        vertical-align: top;\n",
              "    }\n",
              "\n",
              "    .dataframe thead th {\n",
              "        text-align: right;\n",
              "    }\n",
              "</style>\n",
              "<table border=\"1\" class=\"dataframe\">\n",
              "  <thead>\n",
              "    <tr style=\"text-align: right;\">\n",
              "      <th></th>\n",
              "      <th>Channel Name</th>\n",
              "      <th>Channel Join Date</th>\n",
              "      <th>Channel Views (M)</th>\n",
              "      <th>channel_description</th>\n",
              "      <th>Subscribers (M)</th>\n",
              "      <th>Video Title</th>\n",
              "      <th>Video Views (M)</th>\n",
              "      <th>Video URL</th>\n",
              "      <th>Video Desc</th>\n",
              "      <th>Publish Date</th>\n",
              "      <th>Upload Date</th>\n",
              "      <th>Video Genre</th>\n",
              "      <th>Width</th>\n",
              "      <th>Height</th>\n",
              "      <th>Likes</th>\n",
              "      <th>Video Comments</th>\n",
              "      <th>Interactations (M)</th>\n",
              "    </tr>\n",
              "  </thead>\n",
              "  <tbody>\n",
              "    <tr>\n",
              "      <th>0</th>\n",
              "      <td>iJustine</td>\n",
              "      <td>2006-05-07</td>\n",
              "      <td>1288987476</td>\n",
              "      <td>Tech, video games, failed cooking attempts, vl...</td>\n",
              "      <td>6890000.0</td>\n",
              "      <td>Black Eyed Peas - I gotta Feeling (Parody)</td>\n",
              "      <td>18000000.0</td>\n",
              "      <td>https://www.youtube.com/watch?v=iPgaTmsYTT8</td>\n",
              "      <td>Thanks for watching! Don't forget to subscribe...</td>\n",
              "      <td>2009-07-30</td>\n",
              "      <td>2009-07-30</td>\n",
              "      <td>Comedy</td>\n",
              "      <td>1280</td>\n",
              "      <td>720</td>\n",
              "      <td>102000.0</td>\n",
              "      <td>23437</td>\n",
              "      <td>18198670</td>\n",
              "    </tr>\n",
              "    <tr>\n",
              "      <th>1</th>\n",
              "      <td>iJustine</td>\n",
              "      <td>2006-05-07</td>\n",
              "      <td>1288987476</td>\n",
              "      <td>Tech, video games, failed cooking attempts, vl...</td>\n",
              "      <td>6890000.0</td>\n",
              "      <td>Cake Decorating Challenge with Ro | Nerdy Numm...</td>\n",
              "      <td>12000000.0</td>\n",
              "      <td>https://www.youtube.com/watch?v=y7xZ-kJDgvM</td>\n",
              "      <td>Thanks for watching! Don't forget to subscribe...</td>\n",
              "      <td>2016-02-18</td>\n",
              "      <td>2016-02-18</td>\n",
              "      <td>Howto &amp; Style</td>\n",
              "      <td>1280</td>\n",
              "      <td>720</td>\n",
              "      <td>99000.0</td>\n",
              "      <td>8421</td>\n",
              "      <td>12395700</td>\n",
              "    </tr>\n",
              "  </tbody>\n",
              "</table>\n",
              "</div>"
            ],
            "text/plain": [
              "  Channel Name Channel Join Date  ...  Video Comments Interactations (M)\n",
              "0     iJustine        2006-05-07  ...           23437           18198670\n",
              "1     iJustine        2006-05-07  ...            8421           12395700\n",
              "\n",
              "[2 rows x 17 columns]"
            ]
          },
          "metadata": {
            "tags": []
          },
          "execution_count": 535
        }
      ]
    },
    {
      "cell_type": "markdown",
      "metadata": {
        "id": "J_qtqVTsCOYo"
      },
      "source": [
        "## Data Cleaning Complete\n",
        "\n",
        "Sample of fully cleaned and merged dataframe\n",
        "\n",
        "Data from Youtubes Channels and all Videos pages merged."
      ]
    },
    {
      "cell_type": "code",
      "metadata": {
        "colab": {
          "base_uri": "https://localhost:8080/",
          "height": 323
        },
        "id": "RNB0MnskN5cY",
        "outputId": "7bac0d81-26dc-434d-f531-3cf3febba137"
      },
      "source": [
        "# shorten column numbers length by millions \n",
        "\n",
        "vc_merged['Channel Views (M)'] = round(vc_merged['Channel Views (M)']/1000000,2)\n",
        "vc_merged['Video Views (M)'] = vc_merged['Video Views (M)']/1000000\n",
        "vc_merged['Subscribers (M)'] = vc_merged['Subscribers (M)']/1000000\n",
        "vc_merged['Interactations (M)'] = round(vc_merged['Interactations (M)']/1000000,2)\n",
        "\n",
        "vc_merged.head(2)"
      ],
      "execution_count": null,
      "outputs": [
        {
          "output_type": "execute_result",
          "data": {
            "text/html": [
              "<div>\n",
              "<style scoped>\n",
              "    .dataframe tbody tr th:only-of-type {\n",
              "        vertical-align: middle;\n",
              "    }\n",
              "\n",
              "    .dataframe tbody tr th {\n",
              "        vertical-align: top;\n",
              "    }\n",
              "\n",
              "    .dataframe thead th {\n",
              "        text-align: right;\n",
              "    }\n",
              "</style>\n",
              "<table border=\"1\" class=\"dataframe\">\n",
              "  <thead>\n",
              "    <tr style=\"text-align: right;\">\n",
              "      <th></th>\n",
              "      <th>Channel Name</th>\n",
              "      <th>Channel Join Date</th>\n",
              "      <th>Channel Views (M)</th>\n",
              "      <th>channel_description</th>\n",
              "      <th>Subscribers (M)</th>\n",
              "      <th>Video Title</th>\n",
              "      <th>Video Views (M)</th>\n",
              "      <th>Video URL</th>\n",
              "      <th>Video Desc</th>\n",
              "      <th>Publish Date</th>\n",
              "      <th>Upload Date</th>\n",
              "      <th>Video Genre</th>\n",
              "      <th>Width</th>\n",
              "      <th>Height</th>\n",
              "      <th>Likes</th>\n",
              "      <th>Video Comments</th>\n",
              "      <th>Interactations (M)</th>\n",
              "    </tr>\n",
              "  </thead>\n",
              "  <tbody>\n",
              "    <tr>\n",
              "      <th>0</th>\n",
              "      <td>iJustine</td>\n",
              "      <td>2006-05-07</td>\n",
              "      <td>1288.99</td>\n",
              "      <td>Tech, video games, failed cooking attempts, vl...</td>\n",
              "      <td>6.89</td>\n",
              "      <td>Black Eyed Peas - I gotta Feeling (Parody)</td>\n",
              "      <td>18.0</td>\n",
              "      <td>https://www.youtube.com/watch?v=iPgaTmsYTT8</td>\n",
              "      <td>Thanks for watching! Don't forget to subscribe...</td>\n",
              "      <td>2009-07-30</td>\n",
              "      <td>2009-07-30</td>\n",
              "      <td>Comedy</td>\n",
              "      <td>1280</td>\n",
              "      <td>720</td>\n",
              "      <td>102000.0</td>\n",
              "      <td>23437</td>\n",
              "      <td>18.2</td>\n",
              "    </tr>\n",
              "    <tr>\n",
              "      <th>1</th>\n",
              "      <td>iJustine</td>\n",
              "      <td>2006-05-07</td>\n",
              "      <td>1288.99</td>\n",
              "      <td>Tech, video games, failed cooking attempts, vl...</td>\n",
              "      <td>6.89</td>\n",
              "      <td>Cake Decorating Challenge with Ro | Nerdy Numm...</td>\n",
              "      <td>12.0</td>\n",
              "      <td>https://www.youtube.com/watch?v=y7xZ-kJDgvM</td>\n",
              "      <td>Thanks for watching! Don't forget to subscribe...</td>\n",
              "      <td>2016-02-18</td>\n",
              "      <td>2016-02-18</td>\n",
              "      <td>Howto &amp; Style</td>\n",
              "      <td>1280</td>\n",
              "      <td>720</td>\n",
              "      <td>99000.0</td>\n",
              "      <td>8421</td>\n",
              "      <td>12.4</td>\n",
              "    </tr>\n",
              "  </tbody>\n",
              "</table>\n",
              "</div>"
            ],
            "text/plain": [
              "  Channel Name Channel Join Date  ...  Video Comments Interactations (M)\n",
              "0     iJustine        2006-05-07  ...           23437               18.2\n",
              "1     iJustine        2006-05-07  ...            8421               12.4\n",
              "\n",
              "[2 rows x 17 columns]"
            ]
          },
          "metadata": {
            "tags": []
          },
          "execution_count": 536
        }
      ]
    }
  ]
}