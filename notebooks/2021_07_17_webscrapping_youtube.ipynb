{
  "nbformat": 4,
  "nbformat_minor": 0,
  "metadata": {
    "colab": {
      "name": "2021-07-17-webscrapping-youtube.ipynb",
      "provenance": [],
      "collapsed_sections": [],
      "authorship_tag": "ABX9TyMqKCYA+EL+LZaMWFJiEcJY",
      "include_colab_link": true
    },
    "kernelspec": {
      "name": "python3",
      "display_name": "Python 3"
    },
    "language_info": {
      "name": "python"
    }
  },
  "cells": [
    {
      "cell_type": "markdown",
      "metadata": {
        "id": "view-in-github",
        "colab_type": "text"
      },
      "source": [
        "<a href=\"https://colab.research.google.com/github/drusho/webscrape_youtube/blob/main/notebooks/2021_07_17_webscrapping_youtube.ipynb\" target=\"_parent\"><img src=\"https://colab.research.google.com/assets/colab-badge.svg\" alt=\"Open In Colab\"/></a>"
      ]
    },
    {
      "cell_type": "markdown",
      "metadata": {
        "id": "sriMBGHM_4X4"
      },
      "source": [
        "# Data Analysis of Youtube Tech Channels\n",
        "> Analyzing Web Scraped Data Obtained with Selenium\n",
        "\n",
        "- toc: false\n",
        "- badges: false\n",
        "- comments: true\n",
        "- categories: [Selenium, Web Scrapping, Pandas]\n",
        "- image: \"images/thumbnails/header_youtube_web.png\""
      ]
    },
    {
      "cell_type": "markdown",
      "metadata": {
        "id": "plq838Q7cdQs"
      },
      "source": [
        "<br>\n",
        "\n",
        "__Notebook Created by David Rusho__\n",
        "\n",
        "* [<img src=\"https://img.shields.io/badge/Github_Blog-%23ffa64d.svg?&style=for-the-badge&logo=&logoColor=\" />](https://drusho.github.io) \n",
        "\n",
        "* [<img src=\"https://img.shields.io/badge/github-%23181717.svg?&style=for-the-badge&logo=github&logoColor=white\" />](https://github.com/drusho/webscrape_youtube)   \n",
        "\n",
        "* [<img src=\"https://img.shields.io/badge/tableau-%23ff4d4d.svg?&style=for-the-badge&logo=tableau&logoColor=white\">](https://public.tableau.com/app/profile/drusho/) \n",
        "\n",
        "* [<img src=\"https://img.shields.io/badge/linkedin-%230A66C2.svg?&style=for-the-badge&logo=linkedin&logoColor=white\" />](https://linkedin.com/in/davidrusho)  \n",
        "\n",
        "* [<img src =\"https://img.shields.io/badge/Twitter-1DA1F2?style=for-the-badge&logo=twitter&logoColor=white\">](https://twitter.com/drusho)\n"
      ]
    },
    {
      "cell_type": "markdown",
      "metadata": {
        "id": "QQcSYIoEcrGo"
      },
      "source": [
        "## About the Data\n",
        "\n",
        "Web scraping was performed on the _Top 10 Tech Channels_ on Youtube using _[Selenium](https://selenium-python.readthedocs.io/)_ (an automated browser (driver) controlled using python, which is often used in web scraping and web testing).  The youtube channels to were scrapped were determined using a __[Top 10 Tech Youtubers](https://blog.bit.ai/top-tech-youtubers/)__ list from blog.bit.ai.  Scraping included:\n",
        "* Channel names\n",
        "* Number of subscribers per channel\n",
        "* Data from most popular videos per channel included:\n",
        "\t* Video titles\n",
        "\t* Posting date\n",
        "\t* Number of views\n",
        "\n",
        "\n",
        "The average number of videos per channel was around 200.  In total, the data from 2000 videos was scrapped."
      ]
    },
    {
      "cell_type": "markdown",
      "metadata": {
        "id": "Zgl968F6HI4Y"
      },
      "source": [
        "## Data Cleaning"
      ]
    },
    {
      "cell_type": "code",
      "metadata": {
        "id": "gNPkb9yLHMa8"
      },
      "source": [
        "import pandas as pd"
      ],
      "execution_count": 1,
      "outputs": []
    },
    {
      "cell_type": "code",
      "metadata": {
        "colab": {
          "base_uri": "https://localhost:8080/",
          "height": 310
        },
        "id": "IvEQLRIxHSsg",
        "outputId": "42b42343-2ac8-4a6f-c8db-11980b591ba2"
      },
      "source": [
        "yt = pd.read_csv('youtube_video_scrap.csv',parse_dates=['channel_join_date'])\n",
        "yt.head()"
      ],
      "execution_count": 2,
      "outputs": [
        {
          "output_type": "execute_result",
          "data": {
            "text/html": [
              "<div>\n",
              "<style scoped>\n",
              "    .dataframe tbody tr th:only-of-type {\n",
              "        vertical-align: middle;\n",
              "    }\n",
              "\n",
              "    .dataframe tbody tr th {\n",
              "        vertical-align: top;\n",
              "    }\n",
              "\n",
              "    .dataframe thead th {\n",
              "        text-align: right;\n",
              "    }\n",
              "</style>\n",
              "<table border=\"1\" class=\"dataframe\">\n",
              "  <thead>\n",
              "    <tr style=\"text-align: right;\">\n",
              "      <th></th>\n",
              "      <th>Unnamed: 0</th>\n",
              "      <th>channel_name</th>\n",
              "      <th>subscribers</th>\n",
              "      <th>title</th>\n",
              "      <th>views</th>\n",
              "      <th>post_date</th>\n",
              "      <th>channel_join_date</th>\n",
              "      <th>channel_views</th>\n",
              "      <th>channel_description</th>\n",
              "    </tr>\n",
              "  </thead>\n",
              "  <tbody>\n",
              "    <tr>\n",
              "      <th>0</th>\n",
              "      <td>0</td>\n",
              "      <td>iJustine</td>\n",
              "      <td>6.89M subscribers</td>\n",
              "      <td>Black Eyed Peas - I gotta Feeling (Parody)</td>\n",
              "      <td>18M views</td>\n",
              "      <td>11 years ago</td>\n",
              "      <td>NaT</td>\n",
              "      <td>NaN</td>\n",
              "      <td>NaN</td>\n",
              "    </tr>\n",
              "    <tr>\n",
              "      <th>1</th>\n",
              "      <td>1</td>\n",
              "      <td>iJustine</td>\n",
              "      <td>6.89M subscribers</td>\n",
              "      <td>Cake Decorating Challenge with Ro | Nerdy Numm...</td>\n",
              "      <td>12M views</td>\n",
              "      <td>5 years ago</td>\n",
              "      <td>NaT</td>\n",
              "      <td>NaN</td>\n",
              "      <td>NaN</td>\n",
              "    </tr>\n",
              "    <tr>\n",
              "      <th>2</th>\n",
              "      <td>2</td>\n",
              "      <td>iJustine</td>\n",
              "      <td>6.89M subscribers</td>\n",
              "      <td>The Voice of Siri!</td>\n",
              "      <td>11M views</td>\n",
              "      <td>5 years ago</td>\n",
              "      <td>NaT</td>\n",
              "      <td>NaN</td>\n",
              "      <td>NaN</td>\n",
              "    </tr>\n",
              "    <tr>\n",
              "      <th>3</th>\n",
              "      <td>3</td>\n",
              "      <td>iJustine</td>\n",
              "      <td>6.89M subscribers</td>\n",
              "      <td>Ugliest iPhone Cases Ever?</td>\n",
              "      <td>9.4M views</td>\n",
              "      <td>3 years ago</td>\n",
              "      <td>NaT</td>\n",
              "      <td>NaN</td>\n",
              "      <td>NaN</td>\n",
              "    </tr>\n",
              "    <tr>\n",
              "      <th>4</th>\n",
              "      <td>4</td>\n",
              "      <td>iJustine</td>\n",
              "      <td>6.89M subscribers</td>\n",
              "      <td>Making a mini cake with Ro!</td>\n",
              "      <td>9.1M views</td>\n",
              "      <td>3 years ago</td>\n",
              "      <td>NaT</td>\n",
              "      <td>NaN</td>\n",
              "      <td>NaN</td>\n",
              "    </tr>\n",
              "  </tbody>\n",
              "</table>\n",
              "</div>"
            ],
            "text/plain": [
              "   Unnamed: 0 channel_name  ... channel_views channel_description\n",
              "0           0     iJustine  ...           NaN                 NaN\n",
              "1           1     iJustine  ...           NaN                 NaN\n",
              "2           2     iJustine  ...           NaN                 NaN\n",
              "3           3     iJustine  ...           NaN                 NaN\n",
              "4           4     iJustine  ...           NaN                 NaN\n",
              "\n",
              "[5 rows x 9 columns]"
            ]
          },
          "metadata": {
            "tags": []
          },
          "execution_count": 2
        }
      ]
    },
    {
      "cell_type": "code",
      "metadata": {
        "colab": {
          "base_uri": "https://localhost:8080/",
          "height": 424
        },
        "id": "y6qOHXr0JrxY",
        "outputId": "d239a243-7636-4d04-ee22-8ccb7e6ee0a4"
      },
      "source": [
        "yt.melt(id_vars=['channel_name'], value_vars=['subscribers', 'title','views','post_date']).dropna()"
      ],
      "execution_count": 3,
      "outputs": [
        {
          "output_type": "execute_result",
          "data": {
            "text/html": [
              "<div>\n",
              "<style scoped>\n",
              "    .dataframe tbody tr th:only-of-type {\n",
              "        vertical-align: middle;\n",
              "    }\n",
              "\n",
              "    .dataframe tbody tr th {\n",
              "        vertical-align: top;\n",
              "    }\n",
              "\n",
              "    .dataframe thead th {\n",
              "        text-align: right;\n",
              "    }\n",
              "</style>\n",
              "<table border=\"1\" class=\"dataframe\">\n",
              "  <thead>\n",
              "    <tr style=\"text-align: right;\">\n",
              "      <th></th>\n",
              "      <th>channel_name</th>\n",
              "      <th>variable</th>\n",
              "      <th>value</th>\n",
              "    </tr>\n",
              "  </thead>\n",
              "  <tbody>\n",
              "    <tr>\n",
              "      <th>0</th>\n",
              "      <td>iJustine</td>\n",
              "      <td>subscribers</td>\n",
              "      <td>6.89M subscribers</td>\n",
              "    </tr>\n",
              "    <tr>\n",
              "      <th>1</th>\n",
              "      <td>iJustine</td>\n",
              "      <td>subscribers</td>\n",
              "      <td>6.89M subscribers</td>\n",
              "    </tr>\n",
              "    <tr>\n",
              "      <th>2</th>\n",
              "      <td>iJustine</td>\n",
              "      <td>subscribers</td>\n",
              "      <td>6.89M subscribers</td>\n",
              "    </tr>\n",
              "    <tr>\n",
              "      <th>3</th>\n",
              "      <td>iJustine</td>\n",
              "      <td>subscribers</td>\n",
              "      <td>6.89M subscribers</td>\n",
              "    </tr>\n",
              "    <tr>\n",
              "      <th>4</th>\n",
              "      <td>iJustine</td>\n",
              "      <td>subscribers</td>\n",
              "      <td>6.89M subscribers</td>\n",
              "    </tr>\n",
              "    <tr>\n",
              "      <th>...</th>\n",
              "      <td>...</td>\n",
              "      <td>...</td>\n",
              "      <td>...</td>\n",
              "    </tr>\n",
              "    <tr>\n",
              "      <th>8030</th>\n",
              "      <td>Marques Brownlee</td>\n",
              "      <td>post_date</td>\n",
              "      <td>3 years ago</td>\n",
              "    </tr>\n",
              "    <tr>\n",
              "      <th>8031</th>\n",
              "      <td>Marques Brownlee</td>\n",
              "      <td>post_date</td>\n",
              "      <td>8 months ago</td>\n",
              "    </tr>\n",
              "    <tr>\n",
              "      <th>8032</th>\n",
              "      <td>Marques Brownlee</td>\n",
              "      <td>post_date</td>\n",
              "      <td>8 months ago</td>\n",
              "    </tr>\n",
              "    <tr>\n",
              "      <th>8033</th>\n",
              "      <td>Marques Brownlee</td>\n",
              "      <td>post_date</td>\n",
              "      <td>3 months ago</td>\n",
              "    </tr>\n",
              "    <tr>\n",
              "      <th>8034</th>\n",
              "      <td>Marques Brownlee</td>\n",
              "      <td>post_date</td>\n",
              "      <td>1 year ago</td>\n",
              "    </tr>\n",
              "  </tbody>\n",
              "</table>\n",
              "<p>7994 rows × 3 columns</p>\n",
              "</div>"
            ],
            "text/plain": [
              "          channel_name     variable              value\n",
              "0             iJustine  subscribers  6.89M subscribers\n",
              "1             iJustine  subscribers  6.89M subscribers\n",
              "2             iJustine  subscribers  6.89M subscribers\n",
              "3             iJustine  subscribers  6.89M subscribers\n",
              "4             iJustine  subscribers  6.89M subscribers\n",
              "...                ...          ...                ...\n",
              "8030  Marques Brownlee    post_date        3 years ago\n",
              "8031  Marques Brownlee    post_date       8 months ago\n",
              "8032  Marques Brownlee    post_date       8 months ago\n",
              "8033  Marques Brownlee    post_date       3 months ago\n",
              "8034  Marques Brownlee    post_date         1 year ago\n",
              "\n",
              "[7994 rows x 3 columns]"
            ]
          },
          "metadata": {
            "tags": []
          },
          "execution_count": 3
        }
      ]
    },
    {
      "cell_type": "code",
      "metadata": {
        "colab": {
          "base_uri": "https://localhost:8080/",
          "height": 206
        },
        "id": "ICOpHLxFHrO0",
        "outputId": "0c575266-57ff-4b49-e814-7857d9227027"
      },
      "source": [
        "# create df of channel details\n",
        "channel_details = yt[yt.channel_join_date.notna()]\n",
        "channel_details = channel_details.drop(columns=['Unnamed: 0','subscribers','title','views','post_date']).reset_index(drop=True)\n",
        "channel_details.head()"
      ],
      "execution_count": 4,
      "outputs": [
        {
          "output_type": "execute_result",
          "data": {
            "text/html": [
              "<div>\n",
              "<style scoped>\n",
              "    .dataframe tbody tr th:only-of-type {\n",
              "        vertical-align: middle;\n",
              "    }\n",
              "\n",
              "    .dataframe tbody tr th {\n",
              "        vertical-align: top;\n",
              "    }\n",
              "\n",
              "    .dataframe thead th {\n",
              "        text-align: right;\n",
              "    }\n",
              "</style>\n",
              "<table border=\"1\" class=\"dataframe\">\n",
              "  <thead>\n",
              "    <tr style=\"text-align: right;\">\n",
              "      <th></th>\n",
              "      <th>channel_name</th>\n",
              "      <th>channel_join_date</th>\n",
              "      <th>channel_views</th>\n",
              "      <th>channel_description</th>\n",
              "    </tr>\n",
              "  </thead>\n",
              "  <tbody>\n",
              "    <tr>\n",
              "      <th>0</th>\n",
              "      <td>iJustine</td>\n",
              "      <td>2006-05-07</td>\n",
              "      <td>1,288,833,680 views</td>\n",
              "      <td>Tech, video games, failed cooking attempts, vl...</td>\n",
              "    </tr>\n",
              "    <tr>\n",
              "      <th>1</th>\n",
              "      <td>Android Authority</td>\n",
              "      <td>2011-04-03</td>\n",
              "      <td>767,831,088 views</td>\n",
              "      <td>Your source for the best phones, streaming, ap...</td>\n",
              "    </tr>\n",
              "    <tr>\n",
              "      <th>2</th>\n",
              "      <td>Mrwhosetheboss</td>\n",
              "      <td>2011-04-20</td>\n",
              "      <td>1,207,247,023 views</td>\n",
              "      <td>My name is Arun Maini. I'm a 25 year old Econo...</td>\n",
              "    </tr>\n",
              "    <tr>\n",
              "      <th>3</th>\n",
              "      <td>Jon Rettinger</td>\n",
              "      <td>2007-06-07</td>\n",
              "      <td>574,893,891 views</td>\n",
              "      <td>Welcome to the video home of Jon Rettinger, fo...</td>\n",
              "    </tr>\n",
              "    <tr>\n",
              "      <th>4</th>\n",
              "      <td>Jonathan Morrison</td>\n",
              "      <td>2010-03-24</td>\n",
              "      <td>430,629,457 views</td>\n",
              "      <td>High quality videos blending tech + aesthetic,...</td>\n",
              "    </tr>\n",
              "  </tbody>\n",
              "</table>\n",
              "</div>"
            ],
            "text/plain": [
              "        channel_name  ...                                channel_description\n",
              "0           iJustine  ...  Tech, video games, failed cooking attempts, vl...\n",
              "1  Android Authority  ...  Your source for the best phones, streaming, ap...\n",
              "2     Mrwhosetheboss  ...  My name is Arun Maini. I'm a 25 year old Econo...\n",
              "3      Jon Rettinger  ...  Welcome to the video home of Jon Rettinger, fo...\n",
              "4  Jonathan Morrison  ...  High quality videos blending tech + aesthetic,...\n",
              "\n",
              "[5 rows x 4 columns]"
            ]
          },
          "metadata": {
            "tags": []
          },
          "execution_count": 4
        }
      ]
    },
    {
      "cell_type": "code",
      "metadata": {
        "colab": {
          "base_uri": "https://localhost:8080/",
          "height": 206
        },
        "id": "ZXktrQpaIqqM",
        "outputId": "6193945e-2703-4e57-f9c4-cd9f5c7b126a"
      },
      "source": [
        "#create df video details\n",
        "video_details = yt[yt.channel_join_date.isna()]\n",
        "video_details = video_details.drop(columns=['Unnamed: 0','channel_join_date','channel_views','channel_description']).reset_index(drop=True)\n",
        "video_details.head()"
      ],
      "execution_count": 5,
      "outputs": [
        {
          "output_type": "execute_result",
          "data": {
            "text/html": [
              "<div>\n",
              "<style scoped>\n",
              "    .dataframe tbody tr th:only-of-type {\n",
              "        vertical-align: middle;\n",
              "    }\n",
              "\n",
              "    .dataframe tbody tr th {\n",
              "        vertical-align: top;\n",
              "    }\n",
              "\n",
              "    .dataframe thead th {\n",
              "        text-align: right;\n",
              "    }\n",
              "</style>\n",
              "<table border=\"1\" class=\"dataframe\">\n",
              "  <thead>\n",
              "    <tr style=\"text-align: right;\">\n",
              "      <th></th>\n",
              "      <th>channel_name</th>\n",
              "      <th>subscribers</th>\n",
              "      <th>title</th>\n",
              "      <th>views</th>\n",
              "      <th>post_date</th>\n",
              "    </tr>\n",
              "  </thead>\n",
              "  <tbody>\n",
              "    <tr>\n",
              "      <th>0</th>\n",
              "      <td>iJustine</td>\n",
              "      <td>6.89M subscribers</td>\n",
              "      <td>Black Eyed Peas - I gotta Feeling (Parody)</td>\n",
              "      <td>18M views</td>\n",
              "      <td>11 years ago</td>\n",
              "    </tr>\n",
              "    <tr>\n",
              "      <th>1</th>\n",
              "      <td>iJustine</td>\n",
              "      <td>6.89M subscribers</td>\n",
              "      <td>Cake Decorating Challenge with Ro | Nerdy Numm...</td>\n",
              "      <td>12M views</td>\n",
              "      <td>5 years ago</td>\n",
              "    </tr>\n",
              "    <tr>\n",
              "      <th>2</th>\n",
              "      <td>iJustine</td>\n",
              "      <td>6.89M subscribers</td>\n",
              "      <td>The Voice of Siri!</td>\n",
              "      <td>11M views</td>\n",
              "      <td>5 years ago</td>\n",
              "    </tr>\n",
              "    <tr>\n",
              "      <th>3</th>\n",
              "      <td>iJustine</td>\n",
              "      <td>6.89M subscribers</td>\n",
              "      <td>Ugliest iPhone Cases Ever?</td>\n",
              "      <td>9.4M views</td>\n",
              "      <td>3 years ago</td>\n",
              "    </tr>\n",
              "    <tr>\n",
              "      <th>4</th>\n",
              "      <td>iJustine</td>\n",
              "      <td>6.89M subscribers</td>\n",
              "      <td>Making a mini cake with Ro!</td>\n",
              "      <td>9.1M views</td>\n",
              "      <td>3 years ago</td>\n",
              "    </tr>\n",
              "  </tbody>\n",
              "</table>\n",
              "</div>"
            ],
            "text/plain": [
              "  channel_name        subscribers  ...       views     post_date\n",
              "0     iJustine  6.89M subscribers  ...   18M views  11 years ago\n",
              "1     iJustine  6.89M subscribers  ...   12M views   5 years ago\n",
              "2     iJustine  6.89M subscribers  ...   11M views   5 years ago\n",
              "3     iJustine  6.89M subscribers  ...  9.4M views   3 years ago\n",
              "4     iJustine  6.89M subscribers  ...  9.1M views   3 years ago\n",
              "\n",
              "[5 rows x 5 columns]"
            ]
          },
          "metadata": {
            "tags": []
          },
          "execution_count": 5
        }
      ]
    },
    {
      "cell_type": "code",
      "metadata": {
        "colab": {
          "base_uri": "https://localhost:8080/",
          "height": 293
        },
        "id": "sxhYebCPKkBY",
        "outputId": "1c415143-41b4-464f-ff43-44e893ed0384"
      },
      "source": [
        "# merge dfs \n",
        "merged = channel_details.merge(video_details)\n",
        "merged.head()"
      ],
      "execution_count": 6,
      "outputs": [
        {
          "output_type": "execute_result",
          "data": {
            "text/html": [
              "<div>\n",
              "<style scoped>\n",
              "    .dataframe tbody tr th:only-of-type {\n",
              "        vertical-align: middle;\n",
              "    }\n",
              "\n",
              "    .dataframe tbody tr th {\n",
              "        vertical-align: top;\n",
              "    }\n",
              "\n",
              "    .dataframe thead th {\n",
              "        text-align: right;\n",
              "    }\n",
              "</style>\n",
              "<table border=\"1\" class=\"dataframe\">\n",
              "  <thead>\n",
              "    <tr style=\"text-align: right;\">\n",
              "      <th></th>\n",
              "      <th>channel_name</th>\n",
              "      <th>channel_join_date</th>\n",
              "      <th>channel_views</th>\n",
              "      <th>channel_description</th>\n",
              "      <th>subscribers</th>\n",
              "      <th>title</th>\n",
              "      <th>views</th>\n",
              "      <th>post_date</th>\n",
              "    </tr>\n",
              "  </thead>\n",
              "  <tbody>\n",
              "    <tr>\n",
              "      <th>0</th>\n",
              "      <td>iJustine</td>\n",
              "      <td>2006-05-07</td>\n",
              "      <td>1,288,833,680 views</td>\n",
              "      <td>Tech, video games, failed cooking attempts, vl...</td>\n",
              "      <td>6.89M subscribers</td>\n",
              "      <td>Black Eyed Peas - I gotta Feeling (Parody)</td>\n",
              "      <td>18M views</td>\n",
              "      <td>11 years ago</td>\n",
              "    </tr>\n",
              "    <tr>\n",
              "      <th>1</th>\n",
              "      <td>iJustine</td>\n",
              "      <td>2006-05-07</td>\n",
              "      <td>1,288,833,680 views</td>\n",
              "      <td>Tech, video games, failed cooking attempts, vl...</td>\n",
              "      <td>6.89M subscribers</td>\n",
              "      <td>Cake Decorating Challenge with Ro | Nerdy Numm...</td>\n",
              "      <td>12M views</td>\n",
              "      <td>5 years ago</td>\n",
              "    </tr>\n",
              "    <tr>\n",
              "      <th>2</th>\n",
              "      <td>iJustine</td>\n",
              "      <td>2006-05-07</td>\n",
              "      <td>1,288,833,680 views</td>\n",
              "      <td>Tech, video games, failed cooking attempts, vl...</td>\n",
              "      <td>6.89M subscribers</td>\n",
              "      <td>The Voice of Siri!</td>\n",
              "      <td>11M views</td>\n",
              "      <td>5 years ago</td>\n",
              "    </tr>\n",
              "    <tr>\n",
              "      <th>3</th>\n",
              "      <td>iJustine</td>\n",
              "      <td>2006-05-07</td>\n",
              "      <td>1,288,833,680 views</td>\n",
              "      <td>Tech, video games, failed cooking attempts, vl...</td>\n",
              "      <td>6.89M subscribers</td>\n",
              "      <td>Ugliest iPhone Cases Ever?</td>\n",
              "      <td>9.4M views</td>\n",
              "      <td>3 years ago</td>\n",
              "    </tr>\n",
              "    <tr>\n",
              "      <th>4</th>\n",
              "      <td>iJustine</td>\n",
              "      <td>2006-05-07</td>\n",
              "      <td>1,288,833,680 views</td>\n",
              "      <td>Tech, video games, failed cooking attempts, vl...</td>\n",
              "      <td>6.89M subscribers</td>\n",
              "      <td>Making a mini cake with Ro!</td>\n",
              "      <td>9.1M views</td>\n",
              "      <td>3 years ago</td>\n",
              "    </tr>\n",
              "  </tbody>\n",
              "</table>\n",
              "</div>"
            ],
            "text/plain": [
              "  channel_name channel_join_date  ...       views     post_date\n",
              "0     iJustine        2006-05-07  ...   18M views  11 years ago\n",
              "1     iJustine        2006-05-07  ...   12M views   5 years ago\n",
              "2     iJustine        2006-05-07  ...   11M views   5 years ago\n",
              "3     iJustine        2006-05-07  ...  9.4M views   3 years ago\n",
              "4     iJustine        2006-05-07  ...  9.1M views   3 years ago\n",
              "\n",
              "[5 rows x 8 columns]"
            ]
          },
          "metadata": {
            "tags": []
          },
          "execution_count": 6
        }
      ]
    },
    {
      "cell_type": "code",
      "metadata": {
        "colab": {
          "base_uri": "https://localhost:8080/"
        },
        "id": "eTbEKKUwLWY0",
        "outputId": "2a74f1de-d279-44ac-c481-8002a43893cc"
      },
      "source": [
        "# dtypes to int for views and subscribers\n",
        "merged.subscribers = merged.subscribers.str.replace('M subscribers','000000').str.replace('.','').astype('int')\n",
        "merged.views = merged.views.str.replace('M views','000000').str.replace('K views','000').str.replace('.','').str.replace('1 year ago','0').astype('int')\n",
        "merged.info()"
      ],
      "execution_count": 7,
      "outputs": [
        {
          "output_type": "stream",
          "text": [
            "<class 'pandas.core.frame.DataFrame'>\n",
            "Int64Index: 1999 entries, 0 to 1998\n",
            "Data columns (total 8 columns):\n",
            " #   Column               Non-Null Count  Dtype         \n",
            "---  ------               --------------  -----         \n",
            " 0   channel_name         1999 non-null   object        \n",
            " 1   channel_join_date    1999 non-null   datetime64[ns]\n",
            " 2   channel_views        1999 non-null   object        \n",
            " 3   channel_description  1999 non-null   object        \n",
            " 4   subscribers          1999 non-null   int64         \n",
            " 5   title                1999 non-null   object        \n",
            " 6   views                1999 non-null   int64         \n",
            " 7   post_date            1997 non-null   object        \n",
            "dtypes: datetime64[ns](1), int64(2), object(5)\n",
            "memory usage: 140.6+ KB\n"
          ],
          "name": "stdout"
        }
      ]
    },
    {
      "cell_type": "code",
      "metadata": {
        "id": "YdmG3ALrRBvg"
      },
      "source": [
        "# drop na values in post_date col\n",
        "merged['post_date'] = merged['post_date'].fillna('')"
      ],
      "execution_count": 9,
      "outputs": []
    },
    {
      "cell_type": "code",
      "metadata": {
        "colab": {
          "base_uri": "https://localhost:8080/",
          "height": 196
        },
        "id": "rHkfRB0MSTdM",
        "outputId": "a26a9e4a-c90f-4aa6-850a-55d8df48948d"
      },
      "source": [
        "# channel views to dtype\n",
        "merged.channel_views = merged.channel_views.str.replace(',','').str.replace('views','').astype('int')\n",
        "merged.head(3)"
      ],
      "execution_count": 10,
      "outputs": [
        {
          "output_type": "execute_result",
          "data": {
            "text/html": [
              "<div>\n",
              "<style scoped>\n",
              "    .dataframe tbody tr th:only-of-type {\n",
              "        vertical-align: middle;\n",
              "    }\n",
              "\n",
              "    .dataframe tbody tr th {\n",
              "        vertical-align: top;\n",
              "    }\n",
              "\n",
              "    .dataframe thead th {\n",
              "        text-align: right;\n",
              "    }\n",
              "</style>\n",
              "<table border=\"1\" class=\"dataframe\">\n",
              "  <thead>\n",
              "    <tr style=\"text-align: right;\">\n",
              "      <th></th>\n",
              "      <th>channel_name</th>\n",
              "      <th>channel_join_date</th>\n",
              "      <th>channel_views</th>\n",
              "      <th>channel_description</th>\n",
              "      <th>subscribers</th>\n",
              "      <th>title</th>\n",
              "      <th>views</th>\n",
              "      <th>post_date</th>\n",
              "    </tr>\n",
              "  </thead>\n",
              "  <tbody>\n",
              "    <tr>\n",
              "      <th>0</th>\n",
              "      <td>iJustine</td>\n",
              "      <td>2006-05-07</td>\n",
              "      <td>1288833680</td>\n",
              "      <td>Tech, video games, failed cooking attempts, vl...</td>\n",
              "      <td>689000000</td>\n",
              "      <td>Black Eyed Peas - I gotta Feeling (Parody)</td>\n",
              "      <td>18000000</td>\n",
              "      <td>11 years ago</td>\n",
              "    </tr>\n",
              "    <tr>\n",
              "      <th>1</th>\n",
              "      <td>iJustine</td>\n",
              "      <td>2006-05-07</td>\n",
              "      <td>1288833680</td>\n",
              "      <td>Tech, video games, failed cooking attempts, vl...</td>\n",
              "      <td>689000000</td>\n",
              "      <td>Cake Decorating Challenge with Ro | Nerdy Numm...</td>\n",
              "      <td>12000000</td>\n",
              "      <td>5 years ago</td>\n",
              "    </tr>\n",
              "    <tr>\n",
              "      <th>2</th>\n",
              "      <td>iJustine</td>\n",
              "      <td>2006-05-07</td>\n",
              "      <td>1288833680</td>\n",
              "      <td>Tech, video games, failed cooking attempts, vl...</td>\n",
              "      <td>689000000</td>\n",
              "      <td>The Voice of Siri!</td>\n",
              "      <td>11000000</td>\n",
              "      <td>5 years ago</td>\n",
              "    </tr>\n",
              "  </tbody>\n",
              "</table>\n",
              "</div>"
            ],
            "text/plain": [
              "  channel_name channel_join_date  ...     views     post_date\n",
              "0     iJustine        2006-05-07  ...  18000000  11 years ago\n",
              "1     iJustine        2006-05-07  ...  12000000   5 years ago\n",
              "2     iJustine        2006-05-07  ...  11000000   5 years ago\n",
              "\n",
              "[3 rows x 8 columns]"
            ]
          },
          "metadata": {
            "tags": []
          },
          "execution_count": 10
        }
      ]
    },
    {
      "cell_type": "markdown",
      "metadata": {
        "id": "6RsDL9aOYx7w"
      },
      "source": [
        "## Data Analysis"
      ]
    },
    {
      "cell_type": "markdown",
      "metadata": {
        "id": "5ov8vuAsY1q0"
      },
      "source": [
        "### Top 10 Videos by Views\n",
        "\n",
        "Discoveries so far:\n",
        "\n",
        "* Majority of these vidoes are over a year old.  Meaning that as time goes by more video views will be acquired.\n",
        "\n",
        "* Two videos list a dollar amount in the title.\n",
        "\n",
        "* Marques Brownlee labels some videos (ex: \"Dope Tech\")\n",
        "\n",
        "* Unbox Therapy dominates videos by views list, 8 of 10 videos belong to this channel alone."
      ]
    },
    {
      "cell_type": "code",
      "metadata": {
        "colab": {
          "base_uri": "https://localhost:8080/",
          "height": 363
        },
        "id": "GvBkqfoEXQZk",
        "outputId": "80a85ea0-0da1-423b-d266-bf895d06df67"
      },
      "source": [
        "# Top 10 Videos by Views\n",
        "merged.groupby(['title','channel_name','post_date'])['views'].max().sort_values(ascending=False).head(10).reset_index()"
      ],
      "execution_count": 33,
      "outputs": [
        {
          "output_type": "execute_result",
          "data": {
            "text/html": [
              "<div>\n",
              "<style scoped>\n",
              "    .dataframe tbody tr th:only-of-type {\n",
              "        vertical-align: middle;\n",
              "    }\n",
              "\n",
              "    .dataframe tbody tr th {\n",
              "        vertical-align: top;\n",
              "    }\n",
              "\n",
              "    .dataframe thead th {\n",
              "        text-align: right;\n",
              "    }\n",
              "</style>\n",
              "<table border=\"1\" class=\"dataframe\">\n",
              "  <thead>\n",
              "    <tr style=\"text-align: right;\">\n",
              "      <th></th>\n",
              "      <th>title</th>\n",
              "      <th>channel_name</th>\n",
              "      <th>post_date</th>\n",
              "      <th>views</th>\n",
              "    </tr>\n",
              "  </thead>\n",
              "  <tbody>\n",
              "    <tr>\n",
              "      <th>0</th>\n",
              "      <td>2020 iPad Pro Review: It's... A Computer?!</td>\n",
              "      <td>Marques Brownlee</td>\n",
              "      <td>1 year ago</td>\n",
              "      <td>99000000</td>\n",
              "    </tr>\n",
              "    <tr>\n",
              "      <th>1</th>\n",
              "      <td>The Secret Android Button</td>\n",
              "      <td>Unbox Therapy</td>\n",
              "      <td>5 years ago</td>\n",
              "      <td>98000000</td>\n",
              "    </tr>\n",
              "    <tr>\n",
              "      <th>2</th>\n",
              "      <td>Dope Tech: Self-Lacing Nike Mag!</td>\n",
              "      <td>Marques Brownlee</td>\n",
              "      <td>4 years ago</td>\n",
              "      <td>98000000</td>\n",
              "    </tr>\n",
              "    <tr>\n",
              "      <th>3</th>\n",
              "      <td>The FASTEST gaming PC money can buy</td>\n",
              "      <td>Linus Tech Tips</td>\n",
              "      <td>2 years ago</td>\n",
              "      <td>98000000</td>\n",
              "    </tr>\n",
              "    <tr>\n",
              "      <th>4</th>\n",
              "      <td>Fortnite on an INSANE $20,000 Gaming PC</td>\n",
              "      <td>Unbox Therapy</td>\n",
              "      <td>3 years ago</td>\n",
              "      <td>98000000</td>\n",
              "    </tr>\n",
              "    <tr>\n",
              "      <th>5</th>\n",
              "      <td>A Keyboard Made Of Glass?</td>\n",
              "      <td>Unbox Therapy</td>\n",
              "      <td>5 years ago</td>\n",
              "      <td>98000000</td>\n",
              "    </tr>\n",
              "    <tr>\n",
              "      <th>6</th>\n",
              "      <td>iPhone 12 - The iPhone is New Again</td>\n",
              "      <td>Unbox Therapy</td>\n",
              "      <td>9 months ago</td>\n",
              "      <td>98000000</td>\n",
              "    </tr>\n",
              "    <tr>\n",
              "      <th>7</th>\n",
              "      <td>$1000 Earphones! (Shure SE846 Unboxing &amp; Test)</td>\n",
              "      <td>Unbox Therapy</td>\n",
              "      <td>7 years ago</td>\n",
              "      <td>97000000</td>\n",
              "    </tr>\n",
              "    <tr>\n",
              "      <th>8</th>\n",
              "      <td>This is the iPhone SE 2</td>\n",
              "      <td>Unbox Therapy</td>\n",
              "      <td>1 year ago</td>\n",
              "      <td>97000000</td>\n",
              "    </tr>\n",
              "    <tr>\n",
              "      <th>9</th>\n",
              "      <td>Human Headphones Just Changed The Game</td>\n",
              "      <td>Unbox Therapy</td>\n",
              "      <td>1 year ago</td>\n",
              "      <td>97000000</td>\n",
              "    </tr>\n",
              "  </tbody>\n",
              "</table>\n",
              "</div>"
            ],
            "text/plain": [
              "                                            title  ...     views\n",
              "0      2020 iPad Pro Review: It's... A Computer?!  ...  99000000\n",
              "1                       The Secret Android Button  ...  98000000\n",
              "2                Dope Tech: Self-Lacing Nike Mag!  ...  98000000\n",
              "3             The FASTEST gaming PC money can buy  ...  98000000\n",
              "4         Fortnite on an INSANE $20,000 Gaming PC  ...  98000000\n",
              "5                       A Keyboard Made Of Glass?  ...  98000000\n",
              "6             iPhone 12 - The iPhone is New Again  ...  98000000\n",
              "7  $1000 Earphones! (Shure SE846 Unboxing & Test)  ...  97000000\n",
              "8                         This is the iPhone SE 2  ...  97000000\n",
              "9          Human Headphones Just Changed The Game  ...  97000000\n",
              "\n",
              "[10 rows x 4 columns]"
            ]
          },
          "metadata": {
            "tags": []
          },
          "execution_count": 33
        }
      ]
    }
  ]
}